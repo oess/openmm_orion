{
 "cells": [
  {
   "cell_type": "code",
   "execution_count": null,
   "metadata": {
    "collapsed": false
   },
   "outputs": [],
   "source": [
    "from simtk import unit, openmm\n",
    "from simtk.openmm import app\n",
    "import numpy as np\n",
    "from openeye import oechem, oedocking, oeomega\n",
    "import os, smarty, parmed, openmoltools, pdbfixer \n",
    "from openmoltools import forcefield_generators"
   ]
  },
  {
   "cell_type": "raw",
   "metadata": {
    "collapsed": false
   },
   "source": [
    "# Generate SMIRNOFF ligand mol objects from SMILES\n",
    "#imsfname = 'epox_lig_uniq_taut.ism'\n",
    "imsfname = 'test.ism'\n",
    "ffxml = open('../../OpenMMCubes/tests/input/forcefield/smirff99Frosst.ffxml', 'rb')\n",
    "with oechem.oemolistream(imsfname) as ifs:\n",
    "    for mol in ifs.GetOEGraphMols():\n",
    "        molname = mol.GetTitle()\n",
    "        with oechem.oemolostream('lig_oebs/{}-smirff.oeb.gz'.format(molname)) as ofs:\n",
    "            mol.SetData(oechem.OEGetTag('forcefield'), ffxml.read())\n",
    "            oechem.OEWriteMolecule(ofs, mol)"
   ]
  },
  {
   "cell_type": "code",
   "execution_count": null,
   "metadata": {
    "collapsed": true
   },
   "outputs": [],
   "source": [
    "from openeye import oechem, oedocking, oeomega\n",
    "# Generate multi conformers from smile strings\n",
    "imsfname = 'test.ism'\n",
    "omega = oeomega.OEOmega()\n",
    "omega.SetMaxConfs(1)\n",
    "with oechem.oemolistream(imsfname) as ifs:\n",
    "    for mol in ifs.GetOEMols():\n",
    "        with oechem.oemolostream('lig_oebs/{}_isomers.oeb.gz'.format(mol.GetTitle())) as ofs:\n",
    "            for enantiomer in oeomega.OEFlipper(mol.GetActive(), 12, True):\n",
    "                enantiomer = oechem.OEMol(enantiomer)\n",
    "                if omega(enantiomer):\n",
    "                    oechem.OEWriteMolecule(ofs, enantiomer)\n",
    "                    "
   ]
  },
  {
   "cell_type": "code",
   "execution_count": 6,
   "metadata": {
    "collapsed": false
   },
   "outputs": [],
   "source": [
    "from openeye import oechem, oedocking, oeomega\n",
    "#Read in the Receptor\n",
    "receptor = oechem.OEGraphMol()\n",
    "apofname = 'epoxide_hydrolase_apo_receptor.oeb.gz'\n",
    "if not oedocking.OEReadReceptorFile(receptor, apofname):\n",
    "    OEThrow.Fatal(\"Unable to read receptor\")\n",
    "\n",
    "#Initialize Docking\n",
    "dock_method = oedocking.OEDockMethod_Hybrid\n",
    "if not oedocking.OEReceptorHasBoundLigand(receptor):\n",
    "    oechem.OEThrow.Warning(\"No bound ligand, switching OEDockMethod to ChemGauss4.\")\n",
    "    dock_method = oedocking.OEDockMethod_Chemgauss4\n",
    "dock_resolution = oedocking.OESearchResolution_Default\n",
    "dock = oedocking.OEDock(dock_method, dock_resolution)\n",
    "sdtag = oedocking.OEDockMethodGetName(dock_method)"
   ]
  },
  {
   "cell_type": "code",
   "execution_count": 5,
   "metadata": {
    "collapsed": false
   },
   "outputs": [
    {
     "name": "stdout",
     "output_type": "stream",
     "text": [
      "Generating 1 conformers for JF6_1\n",
      "Docking JF6_1\n",
      "\tTotal score = -7.782097\n",
      "\tScore components contributions to score:\n",
      "\t  CG3:Steric:  -9.31\n",
      "\t   CG3:Clash:   0.19\n",
      "\tCG3:ProDesolv:   0.57\n",
      "\tCG3:LigDesolv:   2.23\n",
      "\tCG3:LigDesolvHB:  -0.23\n",
      "\t      CG4:HB:  -1.22\n",
      "Generating 1 conformers for 4VY_1\n",
      "Docking 4VY_1\n",
      "\tTotal score = -7.929983\n",
      "\tScore components contributions to score:\n",
      "\t  CG3:Steric: -10.45\n",
      "\t   CG3:Clash:   0.11\n",
      "\tCG3:ProDesolv:   2.35\n",
      "\tCG3:LigDesolv:   0.92\n",
      "\tCG3:LigDesolvHB:  -0.12\n",
      "\t      CG4:HB:  -0.74\n",
      "Generating 1 conformers for BSU_1\n",
      "Docking BSU_1\n",
      "\tTotal score = -9.562876\n",
      "\tScore components contributions to score:\n",
      "\t  CG3:Steric:  -8.86\n",
      "\t   CG3:Clash:   0.81\n",
      "\tCG3:ProDesolv:   2.03\n",
      "\tCG3:LigDesolv:   2.70\n",
      "\tCG3:LigDesolvHB:  -3.24\n",
      "\t      CG4:HB:  -3.00\n"
     ]
    }
   ],
   "source": [
    "#Parse from smile strings\n",
    "imsfname = 'test.ism'\n",
    "omega = oeomega.OEOmega()\n",
    "omega.SetMaxConfs(3)\n",
    "with oechem.oemolistream(imsfname) as ifs:\n",
    "    for mol in ifs.GetOEMols():\n",
    "        with oechem.oemolostream('lig_oebs/{}_dock.oeb.gz'.format(mol.GetTitle())) as ofs:\n",
    "            if omega(mol):\n",
    "                print(\"Generating {} conformers for {}\".format(omega.GetMaxConfs(), mol.GetTitle()))\n",
    "                if dock.Initialize(receptor):\n",
    "                    print(\"Docking\", mol.GetTitle())\n",
    "                    dockedMol = oechem.OEMol()\n",
    "                    dock.DockMultiConformerMolecule(dockedMol, mol)\n",
    "                    oedocking.OESetSDScore(dockedMol, dock, sdtag)\n",
    "                    dock.AnnotatePose(dockedMol)\n",
    "                    oechem.OEWriteMolecule(ofs, dockedMol)\n",
    "                    print(\"\\tTotal score = %f\" % dock.ScoreLigand(dockedMol))\n",
    "                    print(\"\\tScore components contributions to score:\")\n",
    "                    for comp in dock.GetComponentNames():\n",
    "                        print(\"\\t%12s: %6.2f\" % (comp, dock.ScoreLigandComponent(dockedMol, comp)))     "
   ]
  },
  {
   "cell_type": "raw",
   "metadata": {},
   "source": [
    "from openeye import oechem, oedocking, oeomega\n",
    "\n",
    "#Read in the Receptor\n",
    "receptor = oechem.OEGraphMol()\n",
    "apofname = 'epoxide_hydrolase_apo_receptor.oeb.gz'\n",
    "if not oedocking.OEReadReceptorFile(receptor, apofname):\n",
    "    OEThrow.Fatal(\"Unable to read receptor\")\n",
    "    \n",
    "fullConformations = False\n",
    "posit_methods = oedocking.OEPositMethod_FRED\n",
    "options = oedocking.OEPositOptions(fullConformations, posit_methods)\n",
    "options.SetIgnoreNitrogenStereo(True)\n",
    "poser = oedocking.OEPosit(options)\n",
    "imsfname = 'test.ism'\n",
    "with oechem.oemolistream(imsfname) as ifs:\n",
    "    for mol in ifs.GetOEMols():\n",
    "        with oechem.oemolostream('lig_oebs/{}_flip.oeb.gz'.format(mol.GetTitle())) as ofs:\n",
    "            omega = oeomega.OEOmega()\n",
    "            omega.SetMaxConfs(1)\n",
    "            for enantiomer in oeomega.OEFlipper(mol.GetActive(), 12, True):\n",
    "                enantiomer = oechem.OEMol(enantiomer)\n",
    "                if omega(enantiomer):\n",
    "                    oechem.OEWriteMolecule(ofs, enantiomer)\n",
    "                    \n",
    "with oechem.oemolistream('lig_oebs/BSU_1_flip.oeb.gz') as ifs:\n",
    "    for mcmol in ifs.GetOEMols():\n",
    "        if poser.Initialize(receptor):\n",
    "            print(\"Posing\", mcmol.GetTitle())\n",
    "            posedMol = oechem.OEGraphMol()\n",
    "            poser.DockMultiConformerMolecule(posedMol, mcmol)"
   ]
  }
 ],
 "metadata": {
  "anaconda-cloud": {},
  "kernelspec": {
   "display_name": "Python [default]",
   "language": "python",
   "name": "python3"
  },
  "language_info": {
   "codemirror_mode": {
    "name": "ipython",
    "version": 3
   },
   "file_extension": ".py",
   "mimetype": "text/x-python",
   "name": "python",
   "nbconvert_exporter": "python",
   "pygments_lexer": "ipython3",
   "version": "3.5.2"
  }
 },
 "nbformat": 4,
 "nbformat_minor": 1
}
