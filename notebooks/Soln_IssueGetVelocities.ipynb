{
 "cells": [
  {
   "cell_type": "code",
   "execution_count": 1,
   "metadata": {
    "collapsed": true,
    "deletable": true,
    "editable": true
   },
   "outputs": [],
   "source": [
    "#!/usr/bin/env python\n",
    "################################################################\n",
    "#  Copyright (C) 2015 OpenEye Scientific Software, Inc.\n",
    "################################################################\n",
    "from __future__ import print_function\n",
    "import os, sys\n",
    "import numpy as np\n",
    "from simtk import openmm\n",
    "import base64, pickle\n",
    "import parmed\n",
    "import openeye.oechem as oechem\n",
    "from simtk import unit\n",
    "from simtk.openmm import app"
   ]
  },
  {
   "cell_type": "markdown",
   "metadata": {},
   "source": [
    "The OEB file should contain a molecule with a saved state containing Positions, Velocities, and Parameters from the simulation.\n",
    "Reference: https://github.com/openeye-private/openmm_orion/blob/master/OpenMMCubes/cubes.py#L353"
   ]
  },
  {
   "cell_type": "code",
   "execution_count": 2,
   "metadata": {
    "collapsed": false
   },
   "outputs": [
    {
     "data": {
      "text/plain": [
       "True"
      ]
     },
     "execution_count": 2,
     "metadata": {},
     "output_type": "execute_result"
    }
   ],
   "source": [
    "# Read back in the OEB file\n",
    "infile = '../examples/data/9PC1X-simulation.oeb.gz'\n",
    "#infile = 'WNE6S-warmup.oeb.gz'\n",
    "ifs = oechem.oemolistream(infile)\n",
    "mol = oechem.OEMol()\n",
    "oechem.OEReadMolecule(ifs, mol)"
   ]
  },
  {
   "cell_type": "markdown",
   "metadata": {},
   "source": [
    "All our objects are stored as generic tagged data. We have to regenerate the topology from the encoded Parmed Structure dictionary by decoding the dictionary and loading it into an empty Parmed Structure."
   ]
  },
  {
   "cell_type": "code",
   "execution_count": 3,
   "metadata": {
    "collapsed": false
   },
   "outputs": [
    {
     "data": {
      "text/plain": [
       "<Topology; 3 chains, 9964 residues, 31994 atoms, 22215 bonds>"
      ]
     },
     "execution_count": 3,
     "metadata": {},
     "output_type": "execute_result"
    }
   ],
   "source": [
    "struct_tag = oechem.OEGetTag('structure')\n",
    "encoded_structure = mol.GetData(struct_tag)\n",
    "decoded_structure = base64.b64decode(encoded_structure)\n",
    "struct_dict = pickle.loads(decoded_structure)\n",
    "struct = parmed.structure.Structure()\n",
    "struct.__setstate__(struct_dict)\n",
    "topology = struct.topology\n",
    "topology"
   ]
  },
  {
   "cell_type": "markdown",
   "metadata": {},
   "source": [
    "Likewise, we have to decode the OpenMM System to regenerate the Simulation object"
   ]
  },
  {
   "cell_type": "code",
   "execution_count": 4,
   "metadata": {
    "collapsed": false
   },
   "outputs": [
    {
     "data": {
      "text/plain": [
       "<simtk.openmm.openmm.System; proxy of <Swig Object of type 'OpenMM::System *' at 0x7fbc9d3b2b40> >"
      ]
     },
     "execution_count": 4,
     "metadata": {},
     "output_type": "execute_result"
    }
   ],
   "source": [
    "sys_tag = oechem.OEGetTag('system')\n",
    "encoded_system = mol.GetData(sys_tag)\n",
    "system = openmm.XmlSerializer.deserialize(encoded_system)\n",
    "system"
   ]
  },
  {
   "cell_type": "code",
   "execution_count": 5,
   "metadata": {
    "collapsed": false,
    "deletable": true,
    "editable": true
   },
   "outputs": [],
   "source": [
    "# Now regenerate the simulation object.\n",
    "integrator = openmm.LangevinIntegrator(300*unit.kelvin, 1/unit.picoseconds, 0.002*unit.picoseconds)\n",
    "simulation = app.Simulation(topology, system, integrator)"
   ]
  },
  {
   "cell_type": "markdown",
   "metadata": {},
   "source": [
    "This Simulation object should have no positions/velocities stored since we've created a new Simulation for restarting."
   ]
  },
  {
   "cell_type": "code",
   "execution_count": 8,
   "metadata": {
    "collapsed": false
   },
   "outputs": [
    {
     "data": {
      "text/plain": [
       "True"
      ]
     },
     "execution_count": 8,
     "metadata": {},
     "output_type": "execute_result"
    }
   ],
   "source": [
    "sim_state = simulation.context.getState(getPositions=True,getVelocities=True,getParameters=True)\n",
    "sim_vel = sim_state.getVelocities(asNumpy=True) \n",
    "not np.any(sim_vel)"
   ]
  },
  {
   "cell_type": "markdown",
   "metadata": {},
   "source": [
    "Since we want to restart the simulation, we grab the saved state containing the positions, velocities and parameters from the tagged data. Then, set the state from the current context to the saved state."
   ]
  },
  {
   "cell_type": "code",
   "execution_count": 10,
   "metadata": {
    "collapsed": false
   },
   "outputs": [
    {
     "data": {
      "text/plain": [
       "False"
      ]
     },
     "execution_count": 10,
     "metadata": {},
     "output_type": "execute_result"
    }
   ],
   "source": [
    "encoded_state = mol.GetData(oechem.OEGetTag('state'))\n",
    "state = openmm.XmlSerializer.deserialize(encoded_state)\n",
    "saved_vel = state.getVelocities()\n",
    "not np.any(saved_vel)"
   ]
  },
  {
   "cell_type": "markdown",
   "metadata": {},
   "source": [
    "Now, the context should have it's velocities set from the saved state."
   ]
  },
  {
   "cell_type": "code",
   "execution_count": 11,
   "metadata": {
    "collapsed": false
   },
   "outputs": [
    {
     "data": {
      "text/plain": [
       "False"
      ]
     },
     "execution_count": 11,
     "metadata": {},
     "output_type": "execute_result"
    }
   ],
   "source": [
    "simulation.context.setState(state)\n",
    "sim_state = simulation.context.getState(getPositions=True,getVelocities=True,getParameters=True)\n",
    "sim_vel = sim_state.getVelocities()\n",
    "not np.any(sim_vel)"
   ]
  },
  {
   "cell_type": "code",
   "execution_count": 12,
   "metadata": {
    "collapsed": false
   },
   "outputs": [
    {
     "data": {
      "text/plain": [
       "True"
      ]
     },
     "execution_count": 12,
     "metadata": {},
     "output_type": "execute_result"
    }
   ],
   "source": [
    "sim_vel == saved_vel"
   ]
  }
 ],
 "metadata": {
  "kernelspec": {
   "display_name": "Python [conda root]",
   "language": "python",
   "name": "conda-root-py"
  },
  "language_info": {
   "codemirror_mode": {
    "name": "ipython",
    "version": 3
   },
   "file_extension": ".py",
   "mimetype": "text/x-python",
   "name": "python",
   "nbconvert_exporter": "python",
   "pygments_lexer": "ipython3",
   "version": "3.5.2"
  }
 },
 "nbformat": 4,
 "nbformat_minor": 0
}
