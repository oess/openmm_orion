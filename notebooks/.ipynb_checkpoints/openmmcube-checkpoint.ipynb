{
 "cells": [
  {
   "cell_type": "code",
   "execution_count": 5,
   "metadata": {
    "collapsed": false
   },
   "outputs": [],
   "source": [
    "from __future__ import unicode_literals\n",
    "from simtk import unit, openmm\n",
    "from simtk.openmm import app\n",
    "import numpy as np\n",
    "from openeye import oechem\n",
    "import os, smarty, parmed, openmoltools, pdbfixer \n",
    "from openmoltools import forcefield_generators"
   ]
  },
  {
   "cell_type": "code",
   "execution_count": 80,
   "metadata": {
    "collapsed": true
   },
   "outputs": [],
   "source": [
    "# Generate SMIRNOFF ligand mol object\n",
    "def generateStructureFromOEMol(ffxml, molecule):\n",
    "    # Generate parameterized Parmed Structure \n",
    "    from smarty.forcefield import ForceField\n",
    "    mol_ff = ForceField(open(ffxml, 'rb'))\n",
    "    mol_top, mol_sys, mol_pos = smarty.forcefield_utils.create_system_from_molecule(mol_ff, molecule)\n",
    "    molecule_structure = parmed.openmm.load_topology(mol_top, mol_sys, xyz=mol_pos)\n",
    "    molecule_structure.residues[0].name = \"MOL\"\n",
    "    return molecule_structure, mol_sys, mol_top"
   ]
  },
  {
   "cell_type": "code",
   "execution_count": 8,
   "metadata": {
    "collapsed": true
   },
   "outputs": [],
   "source": [
    "import string, random\n",
    "def generateRandomID(size=6, chars=string.ascii_uppercase + string.digits):\n",
    "    return ''.join(random.choice(chars) for _ in range(size))"
   ]
  },
  {
   "cell_type": "code",
   "execution_count": 165,
   "metadata": {
    "collapsed": false
   },
   "outputs": [
    {
     "name": "stdout",
     "output_type": "stream",
     "text": [
      "WARNING: No title found, setting to X23PFA\n",
      "<class 'bytes'>\n",
      "<class 'bytes'>\n",
      "<Atom 0 ( C1 ) of chain 0 residue 0 (X23PFA)>\n",
      "<Atom 1 ( C2 ) of chain 0 residue 0 (X23PFA)>\n",
      "<Atom 2 ( C3 ) of chain 0 residue 0 (X23PFA)>\n",
      "<Atom 3 ( C4 ) of chain 0 residue 0 (X23PFA)>\n",
      "<Atom 4 ( C5 ) of chain 0 residue 0 (X23PFA)>\n",
      "<Atom 5 ( C6 ) of chain 0 residue 0 (X23PFA)>\n",
      "<Atom 6 ( C7 ) of chain 0 residue 0 (X23PFA)>\n",
      "<Atom 7 ( H8 ) of chain 0 residue 0 (X23PFA)>\n",
      "<Atom 8 ( H9 ) of chain 0 residue 0 (X23PFA)>\n",
      "<Atom 9 ( H10) of chain 0 residue 0 (X23PFA)>\n",
      "<Atom 10 ( H11) of chain 0 residue 0 (X23PFA)>\n",
      "<Atom 11 ( H12) of chain 0 residue 0 (X23PFA)>\n",
      "<Atom 12 ( H13) of chain 0 residue 0 (X23PFA)>\n",
      "<Atom 13 ( H14) of chain 0 residue 0 (X23PFA)>\n",
      "<Atom 14 ( H15) of chain 0 residue 0 (X23PFA)>\n"
     ]
    }
   ],
   "source": [
    "molpdb = '../OpenMMCubes/tests/input/toluene.pdb'\n",
    "xmlpath = '../OpenMMCubes/tests/input/forcefield/smirff99Frosst.ffxml'\n",
    "mol = oechem.OEMol()\n",
    "with oechem.oemolistream(molpdb) as ifs:\n",
    "    if not oechem.OEReadMolecule(ifs, mol):\n",
    "        raise RuntimeError('Error reading molecule')\n",
    "        \n",
    "    if not mol.GetTitle():\n",
    "        idname = generateRandomID()\n",
    "        print('WARNING: No title found, setting to {}'.format(idname))\n",
    "        mol.SetTitle(idname)\n",
    "        \n",
    "    from smarty.forcefield import ForceField\n",
    "    mol_ff = ForceField(open(xmlpath, 'rb'))\n",
    "    mol_top, mol_sys, mol_pos = smarty.forcefield_utils.create_system_from_molecule(mol_ff, mol)\n",
    "    #molecule_structure, mol_sys, mol_top = generateStructureFromOEMol(xmlpath, mol)\n",
    "    encoded_system = openmm.XmlSerializer.serialize(mol_sys).encode()\n",
    "    print(type(encoded_system))\n",
    "    encoded_positions = pickle.dumps(mol_pos, -1)\n",
    "    print(type(encoded_positions))\n",
    "    for a in mol_top.atoms():\n",
    "        print(a)\n",
    "        #print(a.index, a.name, a.residue)\n",
    "    #output = ParmEdStructureOutput('output')\n",
    "    #encoded_structure = output.encode(molecule_structure)\n",
    "    #print(type(encoded_structure))\n",
    "    \n",
    "    #input = ParmEdStructureInput('input')\n",
    "    #decoded_structure = input.decode(encoded_structure)\n",
    "    #print(decoded_structure.atoms)\n",
    "\n",
    "    with oechem.oemolostream('test_mol.oeb.gz') as ofs:\n",
    "        mol.AddData(oechem.OEGetTag('system'), encoded_system)\n",
    "        #mol.AddData(oechem.OEGetTag('positions'), encoded_positions)\n",
    "        #oechem.OETriposAtomNames(mol)\n",
    "        #oechem.OETriposAtomTypeNames(mol)\n",
    "        oechem.OEWriteConstMolecule(ofs, mol)"
   ]
  },
  {
   "cell_type": "code",
   "execution_count": 162,
   "metadata": {
    "collapsed": true
   },
   "outputs": [],
   "source": [
    "def generateTopologyFromOEMol(molecule):\n",
    "    # Create a Topology object with one Chain and one Residue.\n",
    "    if not oechem.OEHasResidues(molecule):\n",
    "        oechem.OEPerceiveResidues(molecule, oechem.OEPreserveResInfo_All)\n",
    "    \n",
    "    from simtk.openmm.app import Topology\n",
    "    from simtk.openmm.app.element import Element\n",
    "    topology = Topology()\n",
    "    chain = topology.addChain()\n",
    "    resname = molecule.GetTitle()\n",
    "    residue = topology.addResidue(resname, chain)\n",
    "\n",
    "    # Create atoms in the residue.\n",
    "    for atom in molecule.GetAtoms():\n",
    "        #Regenerate atom properties\n",
    "        index = atom.GetIdx()\n",
    "        atomname = atom.GetName()\n",
    "        atomtype = atom.GetType()\n",
    "        element = Element.getByAtomicNumber(atom.GetAtomicNum())\n",
    "        \n",
    "        #Regenerate residue properties\n",
    "        thisRes = oechem.OEAtomGetResidue(atom)\n",
    "        resname = thisRes.GetName()\n",
    "        #resname = thisRes.GetTitle()\n",
    "        resid = thisRes.GetResidueNumber()\n",
    "        chainid = thisRes.GetChainID()\n",
    "        \n",
    "        #print(atomname,element,resname, resid, chainid)\n",
    "        # Add them into the OpenMM Topology object\n",
    "        #chain = topology.addChain()\n",
    "        \n",
    "        atom = topology.addAtom(atomname, element, residue)\n",
    "        #print(atom)\n",
    "    # Create bonds.\n",
    "    atoms = { atom.name : atom for atom in topology.atoms() }\n",
    "    for bond in molecule.GetBonds():\n",
    "        topology.addBond(atoms[bond.GetBgn().GetName()], atoms[bond.GetEnd().GetName()])\n",
    "    \n",
    "    return topology"
   ]
  },
  {
   "cell_type": "code",
   "execution_count": 168,
   "metadata": {
    "collapsed": false
   },
   "outputs": [
    {
     "name": "stdout",
     "output_type": "stream",
     "text": [
      "<Atom 0 ( C1 ) of chain 0 residue 0 (X23PFA)>\n",
      "<Atom 1 ( C2 ) of chain 0 residue 0 (X23PFA)>\n",
      "<Atom 2 ( C3 ) of chain 0 residue 0 (X23PFA)>\n",
      "<Atom 3 ( C4 ) of chain 0 residue 0 (X23PFA)>\n",
      "<Atom 4 ( C5 ) of chain 0 residue 0 (X23PFA)>\n",
      "<Atom 5 ( C6 ) of chain 0 residue 0 (X23PFA)>\n",
      "<Atom 6 ( C7 ) of chain 0 residue 0 (X23PFA)>\n",
      "<Atom 7 ( H8 ) of chain 0 residue 0 (X23PFA)>\n",
      "<Atom 8 ( H9 ) of chain 0 residue 0 (X23PFA)>\n",
      "<Atom 9 ( H10) of chain 0 residue 0 (X23PFA)>\n",
      "<Atom 10 ( H11) of chain 0 residue 0 (X23PFA)>\n",
      "<Atom 11 ( H12) of chain 0 residue 0 (X23PFA)>\n",
      "<Atom 12 ( H13) of chain 0 residue 0 (X23PFA)>\n",
      "<Atom 13 ( H14) of chain 0 residue 0 (X23PFA)>\n",
      "<Atom 14 ( H15) of chain 0 residue 0 (X23PFA)>\n"
     ]
    }
   ],
   "source": [
    "with oechem.oemolistream('test_mol.oeb.gz') as ifs:\n",
    "    newsys = mol.GetData(oechem.OEGetTag('system'))\n",
    "    #newpos = mol.GetData(oechem.OEGetTag('positions'))\n",
    "    decoded_system = openmm.XmlSerializer.deserialize(newsys)\n",
    "    newtopology = generateTopologyFromOEMol(mol)\n",
    "    new_structure = parmed.openmm.load_topology( newtopology, decoded_system)\n",
    "    for atom in newtopology.atoms():\n",
    "        print(atom)"
   ]
  },
  {
   "cell_type": "code",
   "execution_count": 167,
   "metadata": {
    "collapsed": false
   },
   "outputs": [
    {
     "ename": "NameError",
     "evalue": "name 'newtopology' is not defined",
     "output_type": "error",
     "traceback": [
      "\u001b[0;31m---------------------------------------------------------------------------\u001b[0m",
      "\u001b[0;31mNameError\u001b[0m                                 Traceback (most recent call last)",
      "\u001b[0;32m<ipython-input-167-922c8130b52d>\u001b[0m in \u001b[0;36m<module>\u001b[0;34m()\u001b[0m\n\u001b[0;32m----> 1\u001b[0;31m \u001b[0;32mfor\u001b[0m \u001b[0matom\u001b[0m \u001b[0;32min\u001b[0m \u001b[0mnewtopology\u001b[0m\u001b[0;34m.\u001b[0m\u001b[0matoms\u001b[0m\u001b[0;34m(\u001b[0m\u001b[0;34m)\u001b[0m\u001b[0;34m:\u001b[0m\u001b[0;34m\u001b[0m\u001b[0m\n\u001b[0m\u001b[1;32m      2\u001b[0m     \u001b[0mprint\u001b[0m\u001b[0;34m(\u001b[0m\u001b[0matom\u001b[0m\u001b[0;34m)\u001b[0m\u001b[0;34m\u001b[0m\u001b[0m\n",
      "\u001b[0;31mNameError\u001b[0m: name 'newtopology' is not defined"
     ]
    }
   ],
   "source": []
  },
  {
   "cell_type": "code",
   "execution_count": 111,
   "metadata": {
    "collapsed": false
   },
   "outputs": [
    {
     "ename": "IndentationError",
     "evalue": "expected an indented block (<ipython-input-111-3e4f4b1f2184>, line 10)",
     "output_type": "error",
     "traceback": [
      "\u001b[0;36m  File \u001b[0;32m\"<ipython-input-111-3e4f4b1f2184>\"\u001b[0;36m, line \u001b[0;32m10\u001b[0m\n\u001b[0;31m    mol_ff = ForceField(open('mol_parameters.ffxml'))\u001b[0m\n\u001b[0m         ^\u001b[0m\n\u001b[0;31mIndentationError\u001b[0m\u001b[0;31m:\u001b[0m expected an indented block\n"
     ]
    }
   ],
   "source": [
    "# Read the SMIRNOFF ligand Structure object\n",
    "from smarty.forcefield import ForceField\n",
    "from io import BytesIO\n",
    "\n",
    "#ffxml = open('../OpenMMCubes/tests/input/forcefield/smirff99Frosst.ffxml', 'rb')\n",
    "with oechem.oemolistream('smirff_mol.oeb.gz') as ifs:\n",
    "    #ffxml = mol.GetData(oechem.OEGetTag('forcefield')).encode()\n",
    "    #with open('mol_parameters.ffxml', 'wb') as out:\n",
    "     #   out.write(ffxml)\n",
    "mol_ff = ForceField(open('mol_parameters.ffxml'))\n",
    "mol_top, mol_sys, mol_pos = smarty.forcefield_utils.create_system_from_molecule(mol_ff, mol)\n",
    "molecule_structure = parmed.openmm.load_topology(mol_top, mol_sys, xyz=mol_pos)\n",
    "molecule_structure.residues[0].name = \"MOL\"\n",
    "print(molecule_structure)\n",
    "print(molecule_structure.topology)\n",
    "print(molecule_structure.residues)"
   ]
  },
  {
   "cell_type": "raw",
   "metadata": {
    "collapsed": false
   },
   "source": [
    "# Generate the SMIRNOFF ligand Structure object\n",
    "ifs = oechem.oemolistream('../OpenMMCubes/tests/input/toluene.pdb')\n",
    "mol = oechem.OEMol()\n",
    "flavor = oechem.OEIFlavor_Generic_Default | oechem.OEIFlavor_MOL2_Default | oechem.OEIFlavor_MOL2_Forcefield\n",
    "ifs.SetFlavor( oechem.OEFormat_MOL2, flavor)\n",
    "oechem.OEReadMolecule(ifs, mol )\n",
    "oechem.OETriposAtomNames(mol)\n",
    "\n",
    "from smarty.forcefield import ForceField\n",
    "mol_ff = ForceField('../OpenMMCubes/tests/input/forcefield/smirff99Frosst.ffxml')\n",
    "mol_top, mol_sys, mol_pos = smarty.forcefield_utils.create_system_from_molecule(mol_ff, mol)\n",
    "molecule_structure = parmed.openmm.load_topology(mol_top, mol_sys, xyz=mol_pos) \n",
    "molecule_structure.residues[0].name = \"MOL\"\n",
    "\n",
    "print(molecule_structure)\n",
    "print(molecule_structure.topology)\n",
    "print(molecule_structure.residues)\n",
    "#print(molecule_structure.positions)"
   ]
  },
  {
   "cell_type": "code",
   "execution_count": 169,
   "metadata": {
    "collapsed": false
   },
   "outputs": [
    {
     "name": "stdout",
     "output_type": "stream",
     "text": [
      "<Structure 2634 atoms; 164 residues; 2654 bonds; parametrized>\n",
      "<Topology; 1 chains, 164 residues, 2634 atoms, 2654 bonds>\n"
     ]
    }
   ],
   "source": [
    "#Generate protein Stucture object\n",
    "proteinpdb = os.path.join('..','OpenMMCubes', 'tests', 'input', 'T4-protein.pdb')\n",
    "protein = app.PDBFile(proteinpdb)\n",
    "forcefield = app.ForceField('amber99sbildn.xml', 'tip3p.xml')\n",
    "protein_system = forcefield.createSystem( protein.topology )\n",
    "protein_structure = parmed.openmm.load_topology( protein.topology, protein_system, xyz=protein.positions)\n",
    "\n",
    "print(protein_structure)\n",
    "print(protein_structure.topology)\n",
    "#print(protein_structure.positions)"
   ]
  },
  {
   "cell_type": "code",
   "execution_count": null,
   "metadata": {
    "collapsed": true
   },
   "outputs": [],
   "source": [
    "with oechem.oemolistream('test_mol.oeb.gz') as ifs:\n",
    "    newsys = mol.GetData(oechem.OEGetTag('system'))\n",
    "    #newpos = mol.GetData(oechem.OEGetTag('positions'))\n",
    "    decoded_system = openmm.XmlSerializer.deserialize(newsys)\n",
    "    newtopology = generateTopologyFromOEMol(mol)\n",
    "    new_structure = parmed.openmm.load_topology( newtopology, decoded_system)\n",
    "    for atom in newtopology.atoms():\n",
    "        print(atom)"
   ]
  },
  {
   "cell_type": "code",
   "execution_count": null,
   "metadata": {
    "collapsed": false
   },
   "outputs": [],
   "source": [
    "# Merge structures\n",
    "pl_structure = protein_structure + molecule_structure\n",
    "print(len(pl_structure.positions))"
   ]
  },
  {
   "cell_type": "code",
   "execution_count": null,
   "metadata": {
    "collapsed": false
   },
   "outputs": [],
   "source": [
    "# Concatenate positions arrays\n",
    "positions_unit = unit.angstroms\n",
    "positions0_dimensionless = np.array( protein_structure.positions / positions_unit )\n",
    "positions1_dimensionless = np.array( molecule_structure.positions / positions_unit )\n",
    "\n",
    "coordinates = np.vstack((positions0_dimensionless,positions1_dimensionless))\n",
    "natoms = len(coordinates)\n",
    "positions = np.zeros([natoms,3], np.float32)\n",
    "for index in range(natoms):\n",
    "    (x,y,z) = coordinates[index]\n",
    "    positions[index,0] = x\n",
    "    positions[index,1] = y\n",
    "    positions[index,2] = z\n",
    "positions = unit.Quantity(positions, positions_unit)\n",
    "\n",
    "print(len(positions))\n",
    "# Store in Structure object\n",
    "pl_structure.positions = positions\n",
    "# Save to PDB\n",
    "pl_structure.save('pl_tmp.pdb',overwrite=True)"
   ]
  },
  {
   "cell_type": "code",
   "execution_count": 182,
   "metadata": {
    "collapsed": false
   },
   "outputs": [
    {
     "name": "stdout",
     "output_type": "stream",
     "text": [
      "Variables were Something\n"
     ]
    }
   ],
   "source": [
    "var1 = None\n",
    "var2 = '1'\n",
    "if not any([var1, var2]):\n",
    "    print('Variables were None')\n",
    "else:\n",
    "    print('Variables were Something')"
   ]
  },
  {
   "cell_type": "code",
   "execution_count": null,
   "metadata": {
    "collapsed": false
   },
   "outputs": [],
   "source": [
    "# Solvate with PDBFixer\n",
    "fixer = pdbfixer.PDBFixer('pl_tmp.pdb')\n",
    "#fixer.findMissingResidues()\n",
    "#fixer.findMissingAtoms()\n",
    "#fixer.addMissingAtoms()\n",
    "fixer.addMissingHydrogens(7.0)\n",
    "fixer.addSolvent(padding=unit.Quantity(10, unit.angstroms),\n",
    "                 ionicStrength=unit.Quantity(50, unit.millimolar))"
   ]
  },
  {
   "cell_type": "code",
   "execution_count": null,
   "metadata": {
    "collapsed": false
   },
   "outputs": [],
   "source": [
    "# Load PDBFixer object back to Structure\n",
    "tmp_structure = parmed.openmm.load_topology(fixer.topology, xyz=fixer.positions)\n",
    "print(tmp_structure.topology)"
   ]
  },
  {
   "cell_type": "code",
   "execution_count": null,
   "metadata": {
    "collapsed": false
   },
   "outputs": [],
   "source": [
    "#Store positions, topology, and box vectors for solvated system\n",
    "full_positions = tmp_structure.positions\n",
    "full_topology = tmp_structure.topology\n",
    "full_box = tmp_structure.box\n",
    "\n",
    "print(len(full_positions), full_topology, full_box)"
   ]
  },
  {
   "cell_type": "code",
   "execution_count": null,
   "metadata": {
    "collapsed": false
   },
   "outputs": [],
   "source": [
    "# Remove from ligand from tmp Structure\n",
    "tmp_structure.strip(':MOL')\n",
    "tmp_structure.save('nomol_tmp.pdb',overwrite=True)"
   ]
  },
  {
   "cell_type": "code",
   "execution_count": null,
   "metadata": {
    "collapsed": false
   },
   "outputs": [],
   "source": [
    "nomol = parmed.load_file('nomol_tmp.pdb')\n",
    "print(nomol.topology, nomol.box, len(nomol.positions))"
   ]
  },
  {
   "cell_type": "code",
   "execution_count": null,
   "metadata": {
    "collapsed": false
   },
   "outputs": [],
   "source": [
    "# Regenerate OpenMM System to parameterize solvent\n",
    "nomol_system = forcefield.createSystem(nomol.topology, rigidWater=False)\n",
    "# Regenerate parameterized protein structure\n",
    "solv_structure = parmed.openmm.load_topology( nomol.topology, nomol_system, \n",
    "                                                xyz=nomol.positions, box=nomol.box )"
   ]
  },
  {
   "cell_type": "code",
   "execution_count": null,
   "metadata": {
    "collapsed": true
   },
   "outputs": [],
   "source": [
    "# Remerge with ligand structure\n",
    "full_structure = solv_structure + molecule_structure\n",
    "full_structure.box = nomol.box\n",
    "full_structure.save('full_structure.pdb', overwrite=True)\n",
    "full_structure.write_pdb('test.pdb', renumber=True)"
   ]
  },
  {
   "cell_type": "code",
   "execution_count": null,
   "metadata": {
    "collapsed": false
   },
   "outputs": [],
   "source": [
    "print(full_structure)"
   ]
  },
  {
   "cell_type": "code",
   "execution_count": null,
   "metadata": {
    "collapsed": false
   },
   "outputs": [],
   "source": [
    "print(len(full_structure.positions), full_structure.topology, full_structure.box)\n",
    "# Regenerate OpenMM system with ParmEd\n",
    "system = full_structure.createSystem(nonbondedMethod=app.PME, nonbondedCutoff=10.0*unit.angstroms, \n",
    "                                constraints=app.HBonds)"
   ]
  },
  {
   "cell_type": "code",
   "execution_count": null,
   "metadata": {
    "collapsed": true
   },
   "outputs": [],
   "source": [
    "# Get indices of ligand atoms\n",
    "            lig_atoms = []\n",
    "            if not oechem.OEHasResidues(mol):\n",
    "                oechem.OEPerceiveResidues(mol, oechem.OEPreserveResInfo_All)\n",
    "            for atom in mol.GetAtoms():\n",
    "                thisRes = oechem.OEAtomGetResidue(atom)\n",
    "                resname = thisRes.GetName()\n",
    "                if 'MOL' in resname:\n",
    "                    lig_atoms.append(atom.GetIdx())\n",
    "            self.log.info(cubename+'Selected ligand atoms: {}'.format(str(lig_atoms)))"
   ]
  },
  {
   "cell_type": "code",
   "execution_count": null,
   "metadata": {
    "collapsed": true
   },
   "outputs": [],
   "source": [
    "def oemol_properties(mol):\n",
    "    idx=0\n",
    "    lig_atomidx = []\n",
    "    lig_atomiter = []\n",
    "    properties = []\n",
    "    if not oechem.OEHasResidues(mol):\n",
    "        oechem.OEPerceiveResidues(mol, oechem.OEPreserveResInfo_All)\n",
    "    for atom in mol.GetAtoms():\n",
    "        thisRes = oechem.OEAtomGetResidue(atom)\n",
    "        resname = thisRes.GetName()\n",
    "        resid = thisRes.GetResidueNumber()\n",
    "        chainid = thisRes.GetChainID()\n",
    "        atomidx = thisRes.GetSerialNumber()\n",
    "        prop = [atomidx, resname, resid, idx]\n",
    "        properties.append(prop)\n",
    "        if 'MOL' in resname:\n",
    "            lig_atomidx.append(atom.GetIdx())\n",
    "            lig_atomiter.append(idx)\n",
    "        #if atomidx != idx:\n",
    "        #    print(prop)\n",
    "        idx+=1\n",
    "    return lig_atomidx, lig_atomiter, properties"
   ]
  },
  {
   "cell_type": "raw",
   "metadata": {
    "collapsed": false
   },
   "source": [
    "newmol = oechem.OEMol()\n",
    "struct_tag = oechem.OEGetTag('structure')\n",
    "sys_tag = oechem.OEGetTag('system')\n",
    "ifs1 = oechem.oemolistream('complex.oeb')\n",
    "while oechem.OEReadMolecule(ifs1, newmol):\n",
    "    #oechem.OEAssignSerialNumbers(newmol)\n",
    "    (lig_atomidx, lig_atomiter,prop) = oemol_properties(newmol)\n",
    "    print(lig_atomidx)\n",
    "    print(lig_atomiter)\n",
    "    for line in prop:\n",
    "        print(line)\n",
    "#ofs.close()"
   ]
  },
  {
   "cell_type": "code",
   "execution_count": null,
   "metadata": {
    "collapsed": false
   },
   "outputs": [],
   "source": [
    "#Serialize our objects for attaching to OEMol\n",
    "serialized_system = openmm.XmlSerializer.serialize(system)\n",
    "print(type(serialized_system))\n",
    "encoded_system = serialized_system.encode()\n",
    "print(type(encoded_system))"
   ]
  },
  {
   "cell_type": "code",
   "execution_count": null,
   "metadata": {
    "collapsed": false
   },
   "outputs": [],
   "source": [
    "from io import BytesIO\n",
    "try:\n",
    "    import cPickle as pickle\n",
    "except ImportError:\n",
    "    import pickle\n",
    "import random\n",
    "try:\n",
    "    from string import uppercase\n",
    "except ImportError:\n",
    "    from string import ascii_uppercase as uppercase"
   ]
  },
  {
   "cell_type": "code",
   "execution_count": 14,
   "metadata": {
    "collapsed": false
   },
   "outputs": [
    {
     "ename": "NameError",
     "evalue": "name 'BytesIO' is not defined",
     "output_type": "error",
     "traceback": [
      "\u001b[0;31m---------------------------------------------------------------------------\u001b[0m",
      "\u001b[0;31mNameError\u001b[0m                                 Traceback (most recent call last)",
      "\u001b[0;32m<ipython-input-14-607c9c9bdd6a>\u001b[0m in \u001b[0;36m<module>\u001b[0;34m()\u001b[0m\n\u001b[1;32m      1\u001b[0m \u001b[0;31m# Make sure we copy over exclusions\u001b[0m\u001b[0;34m\u001b[0m\u001b[0;34m\u001b[0m\u001b[0m\n\u001b[0;32m----> 2\u001b[0;31m \u001b[0mfobj\u001b[0m \u001b[0;34m=\u001b[0m \u001b[0mBytesIO\u001b[0m\u001b[0;34m(\u001b[0m\u001b[0;34m)\u001b[0m\u001b[0;34m\u001b[0m\u001b[0m\n\u001b[0m\u001b[1;32m      3\u001b[0m \u001b[0mpickle\u001b[0m\u001b[0;34m.\u001b[0m\u001b[0mdump\u001b[0m\u001b[0;34m(\u001b[0m\u001b[0mfull_structure\u001b[0m\u001b[0;34m,\u001b[0m \u001b[0mfobj\u001b[0m\u001b[0;34m)\u001b[0m\u001b[0;34m\u001b[0m\u001b[0m\n\u001b[1;32m      4\u001b[0m \u001b[0mfobj\u001b[0m\u001b[0;34m.\u001b[0m\u001b[0mseek\u001b[0m\u001b[0;34m(\u001b[0m\u001b[0;36m0\u001b[0m\u001b[0;34m)\u001b[0m\u001b[0;34m\u001b[0m\u001b[0m\n\u001b[1;32m      5\u001b[0m \u001b[0;31m#unpickled = pickle.load(fobj)\u001b[0m\u001b[0;34m\u001b[0m\u001b[0;34m\u001b[0m\u001b[0m\n",
      "\u001b[0;31mNameError\u001b[0m: name 'BytesIO' is not defined"
     ]
    }
   ],
   "source": []
  },
  {
   "cell_type": "code",
   "execution_count": null,
   "metadata": {
    "collapsed": false
   },
   "outputs": [],
   "source": [
    "print(type(fobj.read()))"
   ]
  },
  {
   "cell_type": "code",
   "execution_count": null,
   "metadata": {
    "collapsed": false
   },
   "outputs": [],
   "source": [
    "# Write out complex to oeb.gz\n",
    "complex_mol = oechem.OEMol()\n",
    "with oechem.oemolistream('full_structure.pdb') as ifs:\n",
    "    if not oechem.OEReadMolecule(ifs, complex_mol):\n",
    "        raise RuntimeError(\"Error reading complex pdb\")\n",
    "    with oechem.oemolostream('testcomplex.oeb.gz') as ofs:\n",
    "        complex_mol.SetData(oechem.OEGetTag('idname'), str(complex_mol.GetTitle()))\n",
    "        complex_mol.SetData(oechem.OEGetTag('system'), encoded_system)\n",
    "        complex_mol.SetData(oechem.OEGetTag('structure'), fobj.read())\n",
    "        oechem.OEWriteConstMolecule(ofs, complex_mol)"
   ]
  },
  {
   "cell_type": "code",
   "execution_count": null,
   "metadata": {
    "collapsed": false
   },
   "outputs": [],
   "source": [
    "#Read complex.oeb.gz back in and regenerate pdbfile\n",
    "oebmol = oechem.OEMol()\n",
    "pdbfilename = 'mdcomplex.pdb'\n",
    "with oechem.oemolistream('testcomplex.oeb.gz') as ifs:\n",
    "    if not oechem.OEReadMolecule(ifs, oebmol):\n",
    "        raise RuntimeError(\"Error reading complex\")\n",
    "    #oechem.OETriposAtomNames(oebmol)\n",
    "    #oechem.OETriposAtomTypeNames(oebmol)\n",
    "    with oechem.oemolostream(pdbfilename) as ofs:\n",
    "        res = oechem.OEWriteConstMolecule(ofs, oebmol)\n",
    "        if res != oechem.OEWriteMolReturnCode_Success:\n",
    "            raise RuntimeError(\"Error writing protein: {}\".format(res))"
   ]
  },
  {
   "cell_type": "code",
   "execution_count": null,
   "metadata": {
    "collapsed": false
   },
   "outputs": [],
   "source": [
    "positions = unit.Quantity(np.zeros([oebmol.NumAtoms(), 3], np.float32), unit.angstroms)\n",
    "coords = oebmol.GetCoords()\n",
    "for index in range(oebmol.NumAtoms()):\n",
    "    positions[index,:] = unit.Quantity(coords[index], unit.angstroms)\n",
    "pdbfile = app.PDBFile('mdcomplex.pdb')\n",
    "topology = pdbfile.topology"
   ]
  },
  {
   "cell_type": "code",
   "execution_count": null,
   "metadata": {
    "collapsed": false
   },
   "outputs": [],
   "source": [
    "print(topology)"
   ]
  },
  {
   "cell_type": "code",
   "execution_count": null,
   "metadata": {
    "collapsed": false
   },
   "outputs": [],
   "source": [
    "%%time\n",
    "# GPU simulation with restrictions on minimization (mixed precision)\n",
    "integrator = openmm.LangevinIntegrator(300*unit.kelvin, 1/unit.picoseconds, 0.002*unit.picoseconds)\n",
    "simulation = app.Simulation(topology, system, integrator, openmm.Platform.getPlatformByName('CUDA'))\n",
    "print(simulation.context.getPlatform().getName())\n",
    "simulation.context.setPositions(positions)\n",
    "simulation.context.setVelocitiesToTemperature(300*unit.kelvin)\n",
    "\n",
    "init = simulation.context.getState(getEnergy=True)\n",
    "print('Initial energy is {}'.format(init.getPotentialEnergy()))\n",
    "simulation.minimizeEnergy()\n",
    "st = simulation.context.getState(getEnergy=True)\n",
    "print('Minimized energy is {}'.format(st.getPotentialEnergy()))"
   ]
  },
  {
   "cell_type": "code",
   "execution_count": null,
   "metadata": {
    "collapsed": true
   },
   "outputs": [],
   "source": [
    "simulation.saveCheckpoint('minimized.chkpt')"
   ]
  },
  {
   "cell_type": "code",
   "execution_count": null,
   "metadata": {
    "collapsed": false
   },
   "outputs": [],
   "source": [
    "integrator1 = openmm.LangevinIntegrator(300*unit.kelvin, 1/unit.picoseconds, 0.002*unit.picoseconds)\n",
    "simulation1 = app.Simulation(topology, system, integrator1, openmm.Platform.getPlatformByName('CUDA'))"
   ]
  },
  {
   "cell_type": "code",
   "execution_count": null,
   "metadata": {
    "collapsed": false
   },
   "outputs": [],
   "source": [
    "#Append Reporters\n",
    "from sys import stdout\n",
    "progress_reporter = app.StateDataReporter(stdout, reportInterval=100, totalSteps=1000,\n",
    "                                          time=True, speed=True, progress=True, \n",
    "                                          elapsedTime=True, remainingTime=True)\n",
    "\n",
    "state_reporter = app.StateDataReporter('simulation.out', reportInterval=100, step=True,\n",
    "                                      potentialEnergy=True, totalEnergy=True,\n",
    "                                      volume=True, temperature=True)\n",
    "for reporters in [progress_reporter, state_reporter]:\n",
    "    simulation1.reporters.append(reporters)"
   ]
  },
  {
   "cell_type": "code",
   "execution_count": null,
   "metadata": {
    "collapsed": false
   },
   "outputs": [],
   "source": [
    "simulation1.context.setPositions(positions)\n",
    "simulation1.context.setVelocitiesToTemperature(300*unit.kelvin)\n",
    "simulation1.step(1000)"
   ]
  },
  {
   "cell_type": "code",
   "execution_count": null,
   "metadata": {
    "collapsed": false
   },
   "outputs": [],
   "source": [
    "print(open('simulation.out','r').read())"
   ]
  },
  {
   "cell_type": "code",
   "execution_count": null,
   "metadata": {
    "collapsed": false
   },
   "outputs": [],
   "source": [
    "%ls -lht"
   ]
  },
  {
   "cell_type": "code",
   "execution_count": null,
   "metadata": {
    "collapsed": false
   },
   "outputs": [],
   "source": [
    "%%time\n",
    "# GPU simulation without minization restrictions\n",
    "integrator1 = openmm.LangevinIntegrator(300*unit.kelvin, 1/unit.picoseconds, 0.002*unit.picoseconds)\n",
    "simulation1 = app.Simulation(full_structure.topology, system, integrator1)\n",
    "print(simulation1.context.getPlatform().getName())\n",
    "\n",
    "simulation1.context.setPositions(full_structure.positions)\n",
    "simulation1.context.setVelocitiesToTemperature(300*unit.kelvin)\n",
    "simulation1.minimizeEnergy(maxIterations=20)\n",
    "st1 = simulation1.context.getState(getPositions=True,getEnergy=True)\n",
    "print(st1.getPotentialEnergy())\n",
    "\n",
    "#simulation1.step(1000)\n",
    "#st1 = simulation1.context.getState(getPositions=True,getEnergy=True)\n",
    "#print(st1.getPotentialEnergy())"
   ]
  },
  {
   "cell_type": "code",
   "execution_count": null,
   "metadata": {
    "collapsed": false
   },
   "outputs": [],
   "source": [
    "%%time\n",
    "# CPU simulation with restrictions on minimization\n",
    "integrator_cpu = openmm.LangevinIntegrator(300*unit.kelvin, 1/unit.picoseconds, 0.002*unit.picoseconds)\n",
    "cpu_sim = app.Simulation(topology, system, integrator_cpu, openmm.Platform.getPlatformByName('CPU'))\n",
    "cpu_sim.context.setPositions(positions)\n",
    "cpu_sim.context.setVelocitiesToTemperature(300*unit.kelvin)\n",
    "cpu_sim.minimizeEnergy(tolerance=unit.Quantity(10.0,unit.kilojoules/unit.moles),maxIterations=20)\n",
    "st = cpu_sim.context.getState(getPositions=True,getEnergy=True)\n",
    "print(st.getPotentialEnergy())\n",
    "print(cpu_sim.context.getPlatform().getName())"
   ]
  },
  {
   "cell_type": "raw",
   "metadata": {
    "collapsed": false
   },
   "source": [
    "statereporter = app.StateDataReporter('output.log', 100, step=True, potentialEnergy=True, temperature=True)\n",
    "simulation.reporters.append(statereporter)"
   ]
  },
  {
   "cell_type": "raw",
   "metadata": {
    "collapsed": false
   },
   "source": [
    "state = simulation.context.getState( getPositions=True,\n",
    "                                     getVelocities=True,\n",
    "                                     getForces=True,\n",
    "                                     getEnergy=True,\n",
    "                                     getParameters=True,\n",
    "                                     enforcePeriodicBox=True )"
   ]
  },
  {
   "cell_type": "raw",
   "metadata": {
    "collapsed": false
   },
   "source": [
    "oebfname = '../simulation.oeb.gz'\n",
    "systag = oechem.OEGetTag('system')\n",
    "statetag = oechem.OEGetTag('state')\n",
    "logtag = oechem.OEGetTag('log')\n",
    "ifs = oechem.oemolistream(oebfname)\n",
    "for mol in ifs.GetOEMols():\n",
    "    print(mol)\n",
    "    system = openmm.XmlSerializer.deserialize( mol.GetData(systag) )\n",
    "    print(type(system))\n",
    "    \n",
    "    state = openmm.XmlSerializer.deserialize( mol.GetData(statetag) )\n",
    "    print(type(state))\n",
    "    \n",
    "    log = mol.GetData(logtag)\n",
    "    print(log)\n",
    "    "
   ]
  }
 ],
 "metadata": {
  "anaconda-cloud": {},
  "kernelspec": {
   "display_name": "Python [conda env:icebox]",
   "language": "python",
   "name": "conda-env-icebox-py"
  },
  "language_info": {
   "codemirror_mode": {
    "name": "ipython",
    "version": 3
   },
   "file_extension": ".py",
   "mimetype": "text/x-python",
   "name": "python",
   "nbconvert_exporter": "python",
   "pygments_lexer": "ipython3",
   "version": "3.5.2"
  }
 },
 "nbformat": 4,
 "nbformat_minor": 1
}
