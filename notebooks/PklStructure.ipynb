{
 "cells": [
  {
   "cell_type": "code",
   "execution_count": 1,
   "metadata": {
    "collapsed": false
   },
   "outputs": [],
   "source": [
    "from simtk import unit, openmm\n",
    "from simtk.openmm import app\n",
    "import numpy as np\n",
    "from openeye import oechem\n",
    "import os, smarty, parmed, openmoltools, pdbfixer \n",
    "from openmoltools import forcefield_generators"
   ]
  },
  {
   "cell_type": "code",
   "execution_count": 35,
   "metadata": {
    "collapsed": false
   },
   "outputs": [
    {
     "name": "stdout",
     "output_type": "stream",
     "text": [
      "System is:  <class 'simtk.openmm.openmm.System'>\n",
      "Encoded system is::  <class 'bytes'>\n",
      "Structure is:  <class 'parmed.structure.Structure'>\n",
      "Pickled structure is:  <class 'bytes'>\n",
      "Topology is:  <class 'simtk.openmm.app.topology.Topology'>\n",
      "Pickled top is:  <class 'bytes'>\n"
     ]
    }
   ],
   "source": [
    "# Generate SMIRNOFF ligand mol object\n",
    "mol = oechem.OEMol()\n",
    "molpdb = '../OpenMMCubes/tests/input/toluene.pdb'\n",
    "ffxml = open('../OpenMMCubes/tests/input/forcefield/smirff99Frosst.ffxml', 'r')\n",
    "with oechem.oemolistream(molpdb) as ifs:\n",
    "    oechem.OEReadMolecule(ifs, mol)\n",
    "    \n",
    "    # Generate molecule System, encode to bytes to attach generic data.\n",
    "    from smarty.forcefield import ForceField\n",
    "    mol_ff = ForceField(ffxml)\n",
    "    mol_top, mol_sys, mol_pos = smarty.forcefield_utils.create_system_from_molecule(mol_ff, mol)\n",
    "    print(\"System is: \",type(mol_sys))\n",
    "    encoded_sys = openmm.XmlSerializer.serialize(mol_sys).encode()\n",
    "    print(\"Encoded system is:: \",type(encoded_sys))\n",
    "    \n",
    "    # Generate parmed Structure\n",
    "    molecule_structure = parmed.openmm.load_topology(mol_top, mol_sys, xyz=mol_pos)\n",
    "    molecule_structure.residues[0].name = \"MOL\"\n",
    "\n",
    "    # Serialize to pickle object for bytes representation.\n",
    "    import pickle\n",
    "    pkl_struct = pickle.dumps(molecule_structure)\n",
    "    print(\"Structure is: \",type(molecule_structure))\n",
    "    print(\"Pickled structure is: \",type(pkl_struct))\n",
    "    \n",
    "    pkl_top = pickle.dumps(mol_top)\n",
    "    print(\"Topology is: \", type(mol_top))\n",
    "    print(\"Pickled top is: \", type(pkl_top))\n",
    "\n",
    "    \n",
    "    with oechem.oemolostream('smirff_mol.oeb.gz') as ofs:\n",
    "        mol.AddData(oechem.OEGetTag('system'), encoded_sys)\n",
    "        mol.AddData(oechem.OEGetTag('structure'), pkl_struct)\n",
    "        mol.AddData(oechem.OEGetTag('topology'), pkl_top)\n",
    "        # System and Structure are both in bytes, but pkl does not attach\n",
    "        # Try attaching as string?\n",
    "        mol.AddData(oechem.OEGetTag('structure_str'), str(pkl_struct))\n",
    "        oechem.OEWriteMolecule(ofs, mol)\n",
    "        \n",
    "    ffxml.close()"
   ]
  },
  {
   "cell_type": "code",
   "execution_count": 36,
   "metadata": {
    "collapsed": false
   },
   "outputs": [
    {
     "name": "stdout",
     "output_type": "stream",
     "text": [
      "dict_keys(['system', 'structure_str'])\n"
     ]
    },
    {
     "ename": "UnpicklingError",
     "evalue": "unpickling stack underflow",
     "output_type": "error",
     "traceback": [
      "\u001b[0;31m---------------------------------------------------------------------------\u001b[0m",
      "\u001b[0;31mUnpicklingError\u001b[0m                           Traceback (most recent call last)",
      "\u001b[0;32m<ipython-input-36-db556a12ec31>\u001b[0m in \u001b[0;36m<module>\u001b[0;34m()\u001b[0m\n\u001b[1;32m      8\u001b[0m         \u001b[0;31m#print(struct_str.encode())\u001b[0m\u001b[0;34m\u001b[0m\u001b[0;34m\u001b[0m\u001b[0m\n\u001b[1;32m      9\u001b[0m         \u001b[0;31m# Turn back to bytes?\u001b[0m\u001b[0;34m\u001b[0m\u001b[0;34m\u001b[0m\u001b[0m\n\u001b[0;32m---> 10\u001b[0;31m         \u001b[0mpickle\u001b[0m\u001b[0;34m.\u001b[0m\u001b[0mloads\u001b[0m\u001b[0;34m(\u001b[0m\u001b[0mstruct_str\u001b[0m\u001b[0;34m.\u001b[0m\u001b[0mencode\u001b[0m\u001b[0;34m(\u001b[0m\u001b[0;34m)\u001b[0m\u001b[0;34m)\u001b[0m\u001b[0;34m\u001b[0m\u001b[0m\n\u001b[0m",
      "\u001b[0;31mUnpicklingError\u001b[0m: unpickling stack underflow"
     ]
    }
   ],
   "source": [
    "datamol = oechem.OEMol()\n",
    "with oechem.oemolistream('smirff_mol.oeb.gz') as ifs:\n",
    "    oechem.OEReadMolecule(ifs, datamol)\n",
    "    print(datamol.GetData().keys())\n",
    "    \n",
    "    if 'structure_str' in datamol.GetData().keys():\n",
    "        struct_str = datamol.GetData(oechem.OEGetTag('structure_str'))\n",
    "        #print(struct_str.encode())\n",
    "        # Turn back to bytes?\n",
    "        pickle.loads(struct_str.encode())"
   ]
  },
  {
   "cell_type": "code",
   "execution_count": null,
   "metadata": {
    "collapsed": true
   },
   "outputs": [],
   "source": []
  }
 ],
 "metadata": {
  "anaconda-cloud": {},
  "kernelspec": {
   "display_name": "Python [default]",
   "language": "python",
   "name": "python3"
  },
  "language_info": {
   "codemirror_mode": {
    "name": "ipython",
    "version": 3
   },
   "file_extension": ".py",
   "mimetype": "text/x-python",
   "name": "python",
   "nbconvert_exporter": "python",
   "pygments_lexer": "ipython3",
   "version": "3.5.2"
  }
 },
 "nbformat": 4,
 "nbformat_minor": 1
}
