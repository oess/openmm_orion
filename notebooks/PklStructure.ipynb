{
 "cells": [
  {
   "cell_type": "code",
   "execution_count": 1,
   "metadata": {
    "collapsed": false
   },
   "outputs": [],
   "source": [
    "from simtk import unit, openmm\n",
    "from simtk.openmm import app\n",
    "import numpy as np\n",
    "from openeye import oechem\n",
    "import os, smarty, parmed, openmoltools, pdbfixer \n",
    "from openmoltools import forcefield_generators"
   ]
  },
  {
   "cell_type": "code",
   "execution_count": 3,
   "metadata": {
    "collapsed": false
   },
   "outputs": [
    {
     "name": "stdout",
     "output_type": "stream",
     "text": [
      "System is:  <class 'simtk.openmm.openmm.System'>\n",
      "Encoded system is::  <class 'bytes'>\n"
     ]
    }
   ],
   "source": [
    "# Generate SMIRNOFF ligand mol object\n",
    "mol = oechem.OEMol()\n",
    "molpdb = '../OpenMMCubes/tests/input/toluene.pdb'\n",
    "ffxml = open('../OpenMMCubes/tests/input/forcefield/smirff99Frosst.ffxml', 'r')\n",
    "with oechem.oemolistream(molpdb) as ifs:\n",
    "    oechem.OEReadMolecule(ifs, mol)\n",
    "    \n",
    "    # Generate molecule System, encode to bytes to attach generic data.\n",
    "    from smarty.forcefield import ForceField\n",
    "    mol_ff = ForceField(ffxml)\n",
    "    mol_top, mol_sys, mol_pos = smarty.forcefield_utils.create_system_from_molecule(mol_ff, mol)\n",
    "    print(\"System is: \",type(mol_sys))\n",
    "    encoded_sys = openmm.XmlSerializer.serialize(mol_sys).encode()\n",
    "    print(\"Encoded system is:: \",type(encoded_sys))\n",
    "    \n",
    "    # Generate parmed Structure\n",
    "    molecule_structure = parmed.openmm.load_topology(mol_top, mol_sys, xyz=mol_pos)\n",
    "    molecule_structure.residues[0].name = \"MOL\"\n",
    "    \n",
    "    import base64, pickle\n",
    "    mol_dict = molecule_structure.__getstate__()\n",
    "    pkl_dict = pickle.dumps(mol_dict)\n",
    "    encoded_string = base64.b64encode(pkl_dict)\n",
    "\n",
    "    \n",
    "    with oechem.oemolostream('smirff_mol.oeb.gz') as ofs:\n",
    "        mol.AddData(oechem.OEGetTag('system'), encoded_sys)\n",
    "        mol.AddData(oechem.OEGetTag('structure'), encoded_string)\n",
    "        oechem.OEWriteMolecule(ofs, mol)\n",
    "        \n",
    "    ffxml.close()"
   ]
  },
  {
   "cell_type": "code",
   "execution_count": 60,
   "metadata": {
    "collapsed": false
   },
   "outputs": [
    {
     "name": "stdout",
     "output_type": "stream",
     "text": [
      "dict_keys(['structure', 'system'])\n"
     ]
    }
   ],
   "source": [
    "datamol = oechem.OEMol()\n",
    "with oechem.oemolistream('smirff_mol.oeb.gz') as ifs:\n",
    "    oechem.OEReadMolecule(ifs, datamol)\n",
    "    print(datamol.GetData().keys())\n",
    "    \n",
    "    if 'structure' in datamol.GetData().keys():\n",
    "        encoded_str = datamol.GetData(oechem.OEGetTag('structure'))\n",
    "        decoded_str = base64.b64decode(encoded_str)\n",
    "        struct_dict = pickle.loads(decoded_str)\n",
    "        \n",
    "        newstruct = parmed.structure.Structure()\n",
    "        newstruct.__setstate__(struct_dict)\n"
   ]
  },
  {
   "cell_type": "code",
   "execution_count": 61,
   "metadata": {
    "collapsed": false
   },
   "outputs": [
    {
     "name": "stdout",
     "output_type": "stream",
     "text": [
      "40\n",
      "40\n"
     ]
    }
   ],
   "source": [
    "\n",
    "print(len(struct_dict.keys()))\n",
    "print(len(mol_dict.keys()))"
   ]
  },
  {
   "cell_type": "code",
   "execution_count": 59,
   "metadata": {
    "collapsed": false
   },
   "outputs": [
    {
     "name": "stdout",
     "output_type": "stream",
     "text": [
      "rb_torsion_types True\n",
      "pi_torsion_types True\n",
      "unknown_functional True\n",
      "urey_bradleys True\n",
      "groups True\n",
      "cmap_types True\n",
      "angles True\n",
      "angle_types True\n",
      "acceptors True\n",
      "trigonal_angles True\n",
      "out_of_plane_bend_types True\n",
      "rb_torsions True\n",
      "exclusions True\n",
      "pi_torsions True\n",
      "dihedral_types True\n",
      "donors True\n",
      "stretch_bends True\n",
      "cmaps True\n",
      "urey_bradley_types True\n",
      "torsion_torsion_types True\n",
      "improper_types True\n",
      "adjusts True\n",
      "impropers True\n",
      "title True\n",
      "out_of_plane_bends True\n",
      "stretch_bend_types True\n",
      "bond_types True\n",
      "_combining_rule True\n",
      "multipole_frames True\n",
      "ARRAY FOUND IN KEY: _coordinates\n",
      "_coordinates True\n",
      "torsion_torsions True\n",
      "nrexcl True\n",
      "dihedrals True\n",
      "adjust_types True\n",
      "space_group True\n",
      "chiral_frames True\n",
      "_box True\n",
      "trigonal_angle_types True\n",
      "bonds True\n"
     ]
    }
   ],
   "source": [
    "import numpy as np\n",
    "set(struct_dict.keys()) == set(mol_dict.keys())\n",
    "for k,v in mol_dict.items():\n",
    "    try:\n",
    "        if type(v) == type(np.zeros([1,1])):\n",
    "            print(\"ARRAY FOUND IN KEY:\", k)\n",
    "            if np.array_equal(v, struct_dict[k]):\n",
    "                print(k, 'True')\n",
    "        elif v == struct_dict[k]:\n",
    "            print(k, 'True')\n",
    "    except:\n",
    "        print(\"EXCEPTION IN KEY:\", k, type(v))\n",
    "    "
   ]
  },
  {
   "cell_type": "raw",
   "metadata": {},
   "source": []
  }
 ],
 "metadata": {
  "anaconda-cloud": {},
  "kernelspec": {
   "display_name": "Python [default]",
   "language": "python",
   "name": "python3"
  },
  "language_info": {
   "codemirror_mode": {
    "name": "ipython",
    "version": 3
   },
   "file_extension": ".py",
   "mimetype": "text/x-python",
   "name": "python",
   "nbconvert_exporter": "python",
   "pygments_lexer": "ipython3",
   "version": "3.5.2"
  }
 },
 "nbformat": 4,
 "nbformat_minor": 1
}
