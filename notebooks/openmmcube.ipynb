{
 "cells": [
  {
   "cell_type": "code",
   "execution_count": 192,
   "metadata": {
    "collapsed": false
   },
   "outputs": [],
   "source": [
    "from simtk import unit, openmm\n",
    "from simtk.openmm import app\n",
    "import numpy as np\n",
    "from openeye import oechem\n",
    "import os, smarty, parmed, openmoltools, pdbfixer \n",
    "from openmoltools import forcefield_generators\n",
    "import io, base64, parmed, mdtraj\n",
    "try:\n",
    "    import cPickle as pickle\n",
    "except ImportError:\n",
    "    import pickle"
   ]
  },
  {
   "cell_type": "code",
   "execution_count": 68,
   "metadata": {
    "collapsed": true
   },
   "outputs": [],
   "source": [
    "# Generate SMIRNOFF ligand mol object\n",
    "mol = oechem.OEMol()\n",
    "molpdb = '../OpenMMCubes/tests/input/toluene.pdb'\n",
    "ffxml = open('../OpenMMCubes/tests/input/forcefield/smirff99Frosst.ffxml', 'rb')\n",
    "with oechem.oemolistream(molpdb) as ifs:\n",
    "    oechem.OEReadMolecule(ifs, mol)\n",
    "    with oechem.oemolostream('smirff_mol.oeb.gz') as ofs:\n",
    "        mol.SetData(oechem.OEGetTag('forcefield'), ffxml.read())\n",
    "        oechem.OEWriteMolecule(ofs, mol)"
   ]
  },
  {
   "cell_type": "code",
   "execution_count": 69,
   "metadata": {
    "collapsed": false
   },
   "outputs": [
    {
     "name": "stdout",
     "output_type": "stream",
     "text": [
      "<Structure 15 atoms; 1 residues; 15 bonds; parametrized>\n",
      "<Topology; 1 chains, 1 residues, 15 atoms, 15 bonds>\n",
      "ResidueList([\n",
      "\t<Residue LIG[0]; chain=1>\n",
      "])\n"
     ]
    }
   ],
   "source": [
    "# Read the SMIRNOFF ligand Structure object\n",
    "from smarty.forcefield import ForceField\n",
    "with oechem.oemolistream('smirff_mol.oeb.gz') as ifs:\n",
    "    ffxml = mol.GetData(oechem.OEGetTag('forcefield')).encode()\n",
    "    with open('mol_parameters.ffxml', 'wb') as out:\n",
    "        out.write(ffxml)\n",
    "mol_ff = ForceField(open('mol_parameters.ffxml'))\n",
    "mol_top, mol_sys, mol_pos = smarty.forcefield_utils.create_system_from_molecule(mol_ff, mol)\n",
    "molecule_structure = parmed.openmm.load_topology(mol_top, mol_sys, xyz=mol_pos)\n",
    "molecule_structure.residues[0].name = \"LIG\"\n",
    "print(molecule_structure)\n",
    "print(molecule_structure.topology)\n",
    "print(molecule_structure.residues)"
   ]
  },
  {
   "cell_type": "raw",
   "metadata": {
    "collapsed": false
   },
   "source": [
    "# Generate the SMIRNOFF ligand Structure object\n",
    "ifs = oechem.oemolistream('../OpenMMCubes/tests/input/toluene.pdb')\n",
    "mol = oechem.OEMol()\n",
    "flavor = oechem.OEIFlavor_Generic_Default | oechem.OEIFlavor_MOL2_Default | oechem.OEIFlavor_MOL2_Forcefield\n",
    "ifs.SetFlavor( oechem.OEFormat_MOL2, flavor)\n",
    "oechem.OEReadMolecule(ifs, mol )\n",
    "oechem.OETriposAtomNames(mol)\n",
    "\n",
    "from smarty.forcefield import ForceField\n",
    "mol_ff = ForceField('../OpenMMCubes/tests/input/forcefield/smirff99Frosst.ffxml')\n",
    "mol_top, mol_sys, mol_pos = smarty.forcefield_utils.create_system_from_molecule(mol_ff, mol)\n",
    "molecule_structure = parmed.openmm.load_topology(mol_top, mol_sys, xyz=mol_pos) \n",
    "molecule_structure.residues[0].name = \"MOL\"\n",
    "\n",
    "print(molecule_structure)\n",
    "print(molecule_structure.topology)\n",
    "print(molecule_structure.residues)\n",
    "#print(molecule_structure.positions)"
   ]
  },
  {
   "cell_type": "code",
   "execution_count": 70,
   "metadata": {
    "collapsed": false
   },
   "outputs": [
    {
     "name": "stdout",
     "output_type": "stream",
     "text": [
      "<Structure 2634 atoms; 164 residues; 2654 bonds; parametrized>\n",
      "<Topology; 1 chains, 164 residues, 2634 atoms, 2654 bonds>\n"
     ]
    }
   ],
   "source": [
    "#Generate protein Stucture object\n",
    "proteinpdb = os.path.join('..','OpenMMCubes', 'tests', 'input', 'T4-protein.pdb')\n",
    "protein = app.PDBFile(proteinpdb)\n",
    "forcefield = app.ForceField('amber99sbildn.xml', 'tip3p.xml')\n",
    "protein_system = forcefield.createSystem( protein.topology )\n",
    "protein_structure = parmed.openmm.load_topology( protein.topology, protein_system, xyz=protein.positions)\n",
    "\n",
    "print(protein_structure)\n",
    "print(protein_structure.topology)\n",
    "#print(protein_structure.positions)"
   ]
  },
  {
   "cell_type": "code",
   "execution_count": 71,
   "metadata": {
    "collapsed": false
   },
   "outputs": [
    {
     "name": "stdout",
     "output_type": "stream",
     "text": [
      "2649\n"
     ]
    }
   ],
   "source": [
    "# Merge structures\n",
    "pl_structure = protein_structure + molecule_structure\n",
    "print(len(pl_structure.positions))"
   ]
  },
  {
   "cell_type": "code",
   "execution_count": 72,
   "metadata": {
    "collapsed": false
   },
   "outputs": [
    {
     "name": "stdout",
     "output_type": "stream",
     "text": [
      "2649\n"
     ]
    }
   ],
   "source": [
    "# Concatenate positions arrays\n",
    "positions_unit = unit.angstroms\n",
    "positions0_dimensionless = np.array( protein_structure.positions / positions_unit )\n",
    "positions1_dimensionless = np.array( molecule_structure.positions / positions_unit )\n",
    "\n",
    "coordinates = np.vstack((positions0_dimensionless,positions1_dimensionless))\n",
    "natoms = len(coordinates)\n",
    "positions = np.zeros([natoms,3], np.float32)\n",
    "for index in range(natoms):\n",
    "    (x,y,z) = coordinates[index]\n",
    "    positions[index,0] = x\n",
    "    positions[index,1] = y\n",
    "    positions[index,2] = z\n",
    "positions = unit.Quantity(positions, positions_unit)\n",
    "\n",
    "print(len(positions))\n",
    "# Store in Structure object\n",
    "pl_structure.positions = positions\n",
    "# Save to PDB\n",
    "pl_structure.save('pl_tmp.pdb',overwrite=True)"
   ]
  },
  {
   "cell_type": "code",
   "execution_count": 73,
   "metadata": {
    "collapsed": false
   },
   "outputs": [],
   "source": [
    "# Solvate with PDBFixer\n",
    "fixer = pdbfixer.PDBFixer('pl_tmp.pdb')\n",
    "#fixer.findMissingResidues()\n",
    "#fixer.findMissingAtoms()\n",
    "#fixer.addMissingAtoms()\n",
    "fixer.addMissingHydrogens(7.0)\n",
    "fixer.addSolvent(padding=unit.Quantity(10, unit.angstroms),\n",
    "                 ionicStrength=unit.Quantity(50, unit.millimolar))"
   ]
  },
  {
   "cell_type": "code",
   "execution_count": 74,
   "metadata": {
    "collapsed": false
   },
   "outputs": [
    {
     "name": "stdout",
     "output_type": "stream",
     "text": [
      "<Topology; 3 chains, 10084 residues, 32354 atoms, 22440 bonds>\n"
     ]
    }
   ],
   "source": [
    "# Load PDBFixer object back to Structure\n",
    "tmp_structure = parmed.openmm.load_topology(fixer.topology, xyz=fixer.positions)\n",
    "print(tmp_structure.topology)"
   ]
  },
  {
   "cell_type": "code",
   "execution_count": 75,
   "metadata": {
    "collapsed": false
   },
   "outputs": [
    {
     "name": "stdout",
     "output_type": "stream",
     "text": [
      "32354 <Topology; 3 chains, 10084 residues, 32354 atoms, 22440 bonds> [ 69.92889222  69.92889222  69.92889222  90.          90.          90.        ]\n"
     ]
    }
   ],
   "source": [
    "#Store positions, topology, and box vectors for solvated system\n",
    "full_positions = tmp_structure.positions\n",
    "full_topology = tmp_structure.topology\n",
    "full_box = tmp_structure.box\n",
    "\n",
    "print(len(full_positions), full_topology, full_box)"
   ]
  },
  {
   "cell_type": "code",
   "execution_count": 76,
   "metadata": {
    "collapsed": false
   },
   "outputs": [],
   "source": [
    "# Remove from ligand from tmp Structure\n",
    "tmp_structure.strip(':LIG')\n",
    "tmp_structure.save('nomol_tmp.pdb',overwrite=True)"
   ]
  },
  {
   "cell_type": "code",
   "execution_count": 77,
   "metadata": {
    "collapsed": false
   },
   "outputs": [
    {
     "name": "stdout",
     "output_type": "stream",
     "text": [
      "<Topology; 2 chains, 10083 residues, 32339 atoms, 22440 bonds> [ 69.929  69.929  69.929  90.     90.     90.   ] 32339\n"
     ]
    }
   ],
   "source": [
    "nomol = parmed.load_file('nomol_tmp.pdb')\n",
    "print(nomol.topology, nomol.box, len(nomol.positions))"
   ]
  },
  {
   "cell_type": "code",
   "execution_count": 78,
   "metadata": {
    "collapsed": false
   },
   "outputs": [],
   "source": [
    "# Regenerate OpenMM System to parameterize solvent\n",
    "nomol_system = forcefield.createSystem(nomol.topology, rigidWater=False)\n",
    "# Regenerate parameterized protein structure\n",
    "solv_structure = parmed.openmm.load_topology( nomol.topology, nomol_system, \n",
    "                                                xyz=nomol.positions, box=nomol.box )"
   ]
  },
  {
   "cell_type": "code",
   "execution_count": 79,
   "metadata": {
    "collapsed": false
   },
   "outputs": [
    {
     "name": "stdout",
     "output_type": "stream",
     "text": [
      "32354 <Topology; 3 chains, 10084 residues, 32354 atoms, 22455 bonds> [ 69.929  69.929  69.929  90.     90.     90.   ]\n"
     ]
    }
   ],
   "source": [
    "# Remerge with ligand structure\n",
    "full_structure = solv_structure + molecule_structure\n",
    "full_structure.box = nomol.box\n",
    "full_structure.save('full_structure.pdb', overwrite=True)\n",
    "print(len(full_structure.positions), full_structure.topology, full_structure.box)\n",
    "# Regenerate OpenMM system with ParmEd\n",
    "system = full_structure.createSystem(nonbondedMethod=app.PME, nonbondedCutoff=10.0*unit.angstroms, \n",
    "                                constraints=app.HBonds)"
   ]
  },
  {
   "cell_type": "code",
   "execution_count": 80,
   "metadata": {
    "collapsed": false
   },
   "outputs": [],
   "source": [
    "# Write out complex to oeb.gz\n",
    "complex_mol = oechem.OEMol()\n",
    "pkl_dict = pickle.dumps(full_structure.__getstate__())\n",
    "encoded_dict = base64.b64encode(pkl_dict)\n",
    "encoded_system = openmm.XmlSerializer.serialize(system).encode()\n",
    "with oechem.oemolistream('full_structure.pdb') as ifs:\n",
    "    if not oechem.OEReadMolecule(ifs, complex_mol):\n",
    "        raise RuntimeError(\"Error reading complex pdb\")\n",
    "    with oechem.oemolostream('testcomplex.oeb.gz') as ofs:\n",
    "        complex_mol.SetData(oechem.OEGetTag('system'), encoded_system)\n",
    "        complex_mol.SetData(oechem.OEGetTag('structure'), encoded_dict)\n",
    "        oechem.OEWriteConstMolecule(ofs, complex_mol)"
   ]
  },
  {
   "cell_type": "code",
   "execution_count": 81,
   "metadata": {
    "collapsed": false
   },
   "outputs": [
    {
     "name": "stdout",
     "output_type": "stream",
     "text": [
      "dict_keys(['system', 'structure'])\n"
     ]
    }
   ],
   "source": [
    "print(complex_mol.GetData().keys())"
   ]
  },
  {
   "cell_type": "code",
   "execution_count": 82,
   "metadata": {
    "collapsed": false
   },
   "outputs": [],
   "source": [
    "#Read complex.oeb.gz back in\n",
    "oebmol = oechem.OEMol()\n",
    "with oechem.oemolistream('testcomplex.oeb.gz') as ifs:\n",
    "    if not oechem.OEReadMolecule(ifs, oebmol):\n",
    "        raise RuntimeError(\"Error reading complex\") "
   ]
  },
  {
   "cell_type": "code",
   "execution_count": 83,
   "metadata": {
    "collapsed": false
   },
   "outputs": [
    {
     "name": "stdout",
     "output_type": "stream",
     "text": [
      "<Structure 32354 atoms; 10084 residues; 22455 bonds; PBC (orthogonal); parametrized>\n"
     ]
    }
   ],
   "source": [
    "encoded_system = oebmol.GetData(oechem.OEGetTag('system'))\n",
    "system = openmm.XmlSerializer.deserialize(encoded_system)\n",
    "encoded_structure = oebmol.GetData(oechem.OEGetTag('structure'))           \n",
    "decoded_structure = base64.b64decode(encoded_structure)\n",
    "struct_dict = pickle.loads(decoded_structure)\n",
    "structure = parmed.structure.Structure()\n",
    "structure.__setstate__(struct_dict)\n",
    "print(structure)"
   ]
  },
  {
   "cell_type": "code",
   "execution_count": 84,
   "metadata": {
    "collapsed": false
   },
   "outputs": [
    {
     "name": "stdout",
     "output_type": "stream",
     "text": [
      "CPU\n"
     ]
    }
   ],
   "source": [
    "integrator = openmm.LangevinIntegrator(300*unit.kelvin, 1/unit.picoseconds, 0.002*unit.picoseconds)\n",
    "simulation = app.Simulation(structure.topology, system, integrator)\n",
    "print(simulation.context.getPlatform().getName())"
   ]
  },
  {
   "cell_type": "code",
   "execution_count": 85,
   "metadata": {
    "collapsed": true
   },
   "outputs": [],
   "source": [
    "simulation.context.setPositions(structure.positions)\n",
    "simulation.context.setVelocitiesToTemperature(300*unit.kelvin)"
   ]
  },
  {
   "cell_type": "code",
   "execution_count": 86,
   "metadata": {
    "collapsed": false
   },
   "outputs": [
    {
     "name": "stdout",
     "output_type": "stream",
     "text": [
      "Minimized energy is -454994.06768531026 kJ/mol\n"
     ]
    }
   ],
   "source": [
    "simulation.minimizeEnergy(maxIterations=20)\n",
    "st = simulation.context.getState(getPositions=True,getEnergy=True)\n",
    "print('Minimized energy is {}'.format(st.getPotentialEnergy()))\n",
    "with open('minimized.pdb', 'w') as minout:\n",
    "    app.PDBFile.writeFile(simulation.topology, st.getPositions(), minout)"
   ]
  },
  {
   "cell_type": "code",
   "execution_count": 87,
   "metadata": {
    "collapsed": true
   },
   "outputs": [],
   "source": [
    "min_state = simulation.context.getState(getPositions=True, getVelocities=True, getParameters=True,\n",
    "                                    getForces=True, getParameterDerivatives=True, getEnergy=True,\n",
    "                                    enforcePeriodicBox=True)"
   ]
  },
  {
   "cell_type": "markdown",
   "metadata": {},
   "source": [
    "Xml should serialize State, System, Integrator, Forcefield objects"
   ]
  },
  {
   "cell_type": "code",
   "execution_count": 22,
   "metadata": {
    "collapsed": false
   },
   "outputs": [],
   "source": [
    "minpdb = open('minimized.pdb', 'rb')\n",
    "encoded_min_state = openmm.XmlSerializer.serialize(min_state).encode()\n",
    "encoded_min_system = openmm.XmlSerializer.serialize(system).encode()"
   ]
  },
  {
   "cell_type": "code",
   "execution_count": 23,
   "metadata": {
    "collapsed": false
   },
   "outputs": [],
   "source": [
    "# Write out complex to oeb.gz\n",
    "min_mol = oechem.OEMol()\n",
    "with oechem.oemolistream('minimized.pdb') as ifs:\n",
    "    if not oechem.OEReadMolecule(ifs, min_mol):\n",
    "        raise RuntimeError(\"Error reading complex pdb\")\n",
    "    with oechem.oemolostream('minimized.oeb.gz') as ofs:\n",
    "        min_mol.SetData(oechem.OEGetTag('system'), encoded_min_system)\n",
    "        min_mol.SetData(oechem.OEGetTag('state'), encoded_min_state)\n",
    "        min_mol.SetData(oechem.OEGetTag('pdb') , minpdb.read())\n",
    "        oechem.OEWriteConstMolecule(ofs, min_mol)"
   ]
  },
  {
   "cell_type": "code",
   "execution_count": 24,
   "metadata": {
    "collapsed": false
   },
   "outputs": [
    {
     "name": "stdout",
     "output_type": "stream",
     "text": [
      "-rw-r--r-- 1 nathanlim nathan-x220 4.4M Feb 19 20:44 \u001b[0m\u001b[01;31mminimized.oeb.gz\u001b[0m\r\n",
      "-rw-r--r-- 1 nathanlim nathan-x220 2.5M Feb 19 20:44 minimized.pdb\r\n",
      "-rw-r--r-- 1 nathanlim nathan-x220 2.5M Feb 19 17:25 minimized.tmp\r\n"
     ]
    }
   ],
   "source": [
    "%ls -lht *minimized.*"
   ]
  },
  {
   "cell_type": "code",
   "execution_count": 25,
   "metadata": {
    "collapsed": false
   },
   "outputs": [
    {
     "name": "stdout",
     "output_type": "stream",
     "text": [
      "dict_keys(['state', 'system', 'pdb'])\n"
     ]
    }
   ],
   "source": [
    "min_mol1 = oechem.OEMol()\n",
    "with oechem.oemolistream('minimized.oeb.gz') as ifs:\n",
    "    if not oechem.OEReadMolecule(ifs, min_mol1):\n",
    "        raise RuntimeError(\"Error reading complex pdb\")\n",
    "    print(min_mol1.GetData().keys())"
   ]
  },
  {
   "cell_type": "code",
   "execution_count": 26,
   "metadata": {
    "collapsed": false
   },
   "outputs": [
    {
     "name": "stdout",
     "output_type": "stream",
     "text": [
      "<Topology; 3 chains, 10084 residues, 32354 atoms, 22455 bonds>\n",
      "(3.3494, 1.1226, 4.450200000000001) nm\n"
     ]
    }
   ],
   "source": [
    "encoded_pdb = min_mol1.GetData(oechem.OEGetTag('pdb'))\n",
    "f = io.StringIO(encoded_pdb)\n",
    "pdbfile = app.PDBFile(f)\n",
    "print(pdbfile.topology)\n",
    "print(pdbfile.positions[0])"
   ]
  },
  {
   "cell_type": "code",
   "execution_count": 27,
   "metadata": {
    "collapsed": false,
    "scrolled": true
   },
   "outputs": [
    {
     "name": "stdout",
     "output_type": "stream",
     "text": [
      "<Topology; 3 chains, 10084 residues, 32354 atoms, 22455 bonds>\n"
     ]
    },
    {
     "data": {
      "text/plain": [
       "Quantity(value=(3.3494, 1.1226, 4.450200000000001), unit=nanometer)"
      ]
     },
     "execution_count": 27,
     "metadata": {},
     "output_type": "execute_result"
    }
   ],
   "source": [
    "min_pdb = app.PDBFile('minimized.pdb')\n",
    "print(min_pdb.topology)\n",
    "min_pdb.positions[0]"
   ]
  },
  {
   "cell_type": "code",
   "execution_count": 28,
   "metadata": {
    "collapsed": false
   },
   "outputs": [],
   "source": [
    "encoded_system = min_mol1.GetData(oechem.OEGetTag('system'))\n",
    "min_system = openmm.XmlSerializer.deserialize(encoded_system)\n",
    "serialized_state = min_mol1.GetData(oechem.OEGetTag('state'))\n",
    "min_state1 = openmm.XmlSerializer.deserialize( serialized_state )"
   ]
  },
  {
   "cell_type": "code",
   "execution_count": 29,
   "metadata": {
    "collapsed": false
   },
   "outputs": [
    {
     "data": {
      "text/plain": [
       "True"
      ]
     },
     "execution_count": 29,
     "metadata": {},
     "output_type": "execute_result"
    }
   ],
   "source": [
    "min_state1.getPeriodicBoxVectors() == min_state.getPeriodicBoxVectors()\n",
    "min_state1.getForces() == min_state.getForces()\n",
    "min_state1.getPositions() == min_state.getPositions()\n",
    "min_state1.getParameters() == min_state.getParameters()\n",
    "min_state1.getPositions() == min_state.getPositions()\n",
    "min_state1.getPotentialEnergy() == min_state.getPotentialEnergy()\n",
    "min_state1.getVelocities() == min_state.getVelocities()\n",
    "min_state1.getTime() == min_state.getTime()"
   ]
  },
  {
   "cell_type": "code",
   "execution_count": 48,
   "metadata": {
    "collapsed": true
   },
   "outputs": [],
   "source": [
    "integrator1 = openmm.LangevinIntegrator(300*unit.kelvin, 1/unit.picoseconds, 0.002*unit.picoseconds)"
   ]
  },
  {
   "cell_type": "code",
   "execution_count": 49,
   "metadata": {
    "collapsed": false
   },
   "outputs": [
    {
     "name": "stdout",
     "output_type": "stream",
     "text": [
      "CPU\n"
     ]
    }
   ],
   "source": [
    "simulation1 = app.Simulation(pdbfile.topology, system, integrator1)\n",
    "print(simulation.context.getPlatform().getName())"
   ]
  },
  {
   "cell_type": "code",
   "execution_count": 50,
   "metadata": {
    "collapsed": false
   },
   "outputs": [],
   "source": [
    "simulation1.context.setState(min_state1)"
   ]
  },
  {
   "cell_type": "code",
   "execution_count": 51,
   "metadata": {
    "collapsed": false
   },
   "outputs": [],
   "source": [
    "traj_reporter = mdtraj.reporters.HDF5Reporter('simulation.h5', 100)\n",
    "cdf_reporter = mdtraj.reporters.NetCDFReporter('simulation.nc', 100)\n",
    "simulation1.reporters.append(traj_reporter)\n",
    "simulation1.reporters.append(cdf_reporter)"
   ]
  },
  {
   "cell_type": "code",
   "execution_count": 52,
   "metadata": {
    "collapsed": true
   },
   "outputs": [],
   "source": [
    "simulation1.step(1000)"
   ]
  },
  {
   "cell_type": "code",
   "execution_count": 215,
   "metadata": {
    "collapsed": false
   },
   "outputs": [
    {
     "data": {
      "text/plain": [
       "[<mdtraj.reporters.hdf5reporter.HDF5Reporter at 0x7f2a7263a518>,\n",
       " <mdtraj.reporters.netcdfreporter.NetCDFReporter at 0x7f2a7263acc0>]"
      ]
     },
     "execution_count": 215,
     "metadata": {},
     "output_type": "execute_result"
    }
   ],
   "source": [
    "simulation1.reporters."
   ]
  },
  {
   "cell_type": "code",
   "execution_count": 106,
   "metadata": {
    "collapsed": false
   },
   "outputs": [],
   "source": [
    "traj_reporter.close()\n",
    "cdf_reporter.close()"
   ]
  },
  {
   "cell_type": "code",
   "execution_count": 54,
   "metadata": {
    "collapsed": false
   },
   "outputs": [
    {
     "name": "stdout",
     "output_type": "stream",
     "text": [
      "(3.439, 1.0102, 4.459300000000001) nm\n"
     ]
    }
   ],
   "source": [
    "state = simulation1.context.getState(getPositions=True, getVelocities=True, getParameters=True,\n",
    "                                    getForces=True, getParameterDerivatives=True, getEnergy=True,\n",
    "                                    enforcePeriodicBox=True)\n",
    "with open('simulation.pdb', 'w') as simout:\n",
    "    app.PDBFile.writeFile(simulation1.topology, state.getPositions(), simout)\n",
    "state_pdb = app.PDBFile('simulation.pdb')\n",
    "print(state_pdb.positions[0])"
   ]
  },
  {
   "cell_type": "code",
   "execution_count": 89,
   "metadata": {
    "collapsed": false
   },
   "outputs": [
    {
     "name": "stdout",
     "output_type": "stream",
     "text": [
      "total 44M\r\n",
      "-rw-r--r-- 1 nathanlim nathan-x220 2.5M Feb 19 21:03 minimized.pdb\r\n",
      "-rw-r--r-- 1 nathanlim nathan-x220 4.3M Feb 19 21:02 \u001b[0m\u001b[01;31mtestcomplex.oeb.gz\u001b[0m\r\n",
      "-rw-r--r-- 1 nathanlim nathan-x220 2.5M Feb 19 21:02 full_structure.pdb\r\n",
      "-rw-r--r-- 1 nathanlim nathan-x220 2.5M Feb 19 21:02 nomol_tmp.pdb\r\n",
      "-rw-r--r-- 1 nathanlim nathan-x220 210K Feb 19 21:02 pl_tmp.pdb\r\n",
      "-rw-r--r-- 1 nathanlim nathan-x220  36K Feb 19 21:02 mol_parameters.ffxml\r\n",
      "-rw-r--r-- 1 nathanlim nathan-x220 5.6K Feb 19 21:02 \u001b[01;31msmirff_mol.oeb.gz\u001b[0m\r\n",
      "-rw-r--r-- 1 nathanlim nathan-x220  27K Feb 19 21:01 openmmcube.ipynb\r\n",
      "-rw-r--r-- 1 nathanlim nathan-x220 4.4M Feb 19 21:00 \u001b[01;31msimulationNC.oeb.gz\u001b[0m\r\n",
      "-rw-r--r-- 1 nathanlim nathan-x220 2.5M Feb 19 20:57 simulation.pdb\r\n",
      "-rw-r--r-- 1 nathanlim nathan-x220 3.8M Feb 19 20:57 simulation.nc\r\n",
      "-rw-r--r-- 1 nathanlim nathan-x220 5.5M Feb 19 20:57 simulation.h5\r\n",
      "-rw-r--r-- 1 nathanlim nathan-x220 4.4M Feb 19 20:44 \u001b[01;31mminimized.oeb.gz\u001b[0m\r\n",
      "-rw-r--r-- 1 nathanlim nathan-x220 4.4M Feb 19 20:28 \u001b[01;31msimulationh5.oeb.gz\u001b[0m\r\n",
      "-rw-r--r-- 1 nathanlim nathan-x220 4.4M Feb 19 20:00 \u001b[01;31msimulation.oeb.gz\u001b[0m\r\n",
      "-rw-r--r-- 1 nathanlim nathan-x220    0 Feb 19 18:01 pl.tmp\r\n",
      "-rw-r--r-- 1 nathanlim nathan-x220 2.5M Feb 19 17:25 minimized.tmp\r\n",
      "drwxr-xr-x 5 nathanlim nathan-x220 4.0K Feb 19 14:58 \u001b[01;34minput\u001b[0m/\r\n"
     ]
    }
   ],
   "source": [
    "%ls -lht"
   ]
  },
  {
   "cell_type": "code",
   "execution_count": 158,
   "metadata": {
    "collapsed": false
   },
   "outputs": [
    {
     "name": "stdout",
     "output_type": "stream",
     "text": [
      "<class 'str'>\n",
      "9095747\n"
     ]
    }
   ],
   "source": [
    "with open('simulation.nc', 'rb') as infile:\n",
    "    contents = str(infile.read())\n",
    "    print(type(   contents   ))\n",
    "    print(    len(   contents   )    )"
   ]
  },
  {
   "cell_type": "code",
   "execution_count": 193,
   "metadata": {
    "collapsed": false
   },
   "outputs": [
    {
     "data": {
      "text/plain": [
       "<mdtraj.Trajectory with 10 frames, 32354 atoms, 10084 residues, and unitcells at 0x7f2a80590828>"
      ]
     },
     "execution_count": 193,
     "metadata": {},
     "output_type": "execute_result"
    }
   ],
   "source": [
    "h5traj = mdtraj.load('simulation.h5')\n",
    "h5traj"
   ]
  },
  {
   "cell_type": "code",
   "execution_count": 200,
   "metadata": {
    "collapsed": false
   },
   "outputs": [],
   "source": [
    "pkl_traj = pickle.dumps(h5traj)\n",
    "b64_traj = base64.b64encode(pkl_traj)"
   ]
  },
  {
   "cell_type": "code",
   "execution_count": 201,
   "metadata": {
    "collapsed": false
   },
   "outputs": [],
   "source": [
    "# Write out complex to oeb.gz\n",
    "outmol = oechem.OEMol()\n",
    "pdb = open('simulation.pdb','rb')\n",
    "#traj = open('simulation.h5', 'rb') \n",
    "#print(type(traj.read()))\n",
    "encoded_state = openmm.XmlSerializer.serialize(state).encode()\n",
    "encoded_system = openmm.XmlSerializer.serialize(system).encode()\n",
    "with oechem.oemolistream('simulation.pdb') as ifs:\n",
    "    if not oechem.OEReadMolecule(ifs, outmol):\n",
    "        raise RuntimeError(\"Error reading complex pdb\")\n",
    "    with oechem.oemolostream('simulationH5.oeb.gz') as ofs:\n",
    "        outmol.SetData(oechem.OEGetTag('system'), encoded_min_system)\n",
    "        outmol.SetData(oechem.OEGetTag('state'), encoded_min_state)\n",
    "        outmol.SetData(oechem.OEGetTag('pdb') , pdb.read())\n",
    "        outmol.SetData(oechem.OEGetTag('traj') , b64_traj)\n",
    "        #outmol.SetData(oechem.OEGetTag('traj_nc') , str(traj.read()) )\n",
    "        oechem.OEWriteConstMolecule(ofs, outmol)\n",
    "#pdb.close()\n",
    "traj.close()"
   ]
  },
  {
   "cell_type": "code",
   "execution_count": 202,
   "metadata": {
    "collapsed": false
   },
   "outputs": [
    {
     "name": "stdout",
     "output_type": "stream",
     "text": [
      "dict_keys(['state', 'system', 'pdb', 'traj'])\n"
     ]
    }
   ],
   "source": [
    "print(outmol.GetData().keys())"
   ]
  },
  {
   "cell_type": "code",
   "execution_count": 203,
   "metadata": {
    "collapsed": false
   },
   "outputs": [
    {
     "name": "stdout",
     "output_type": "stream",
     "text": [
      "-rw-r--r-- 1 nathanlim nathan-x220 8.8M Feb 19 21:32 \u001b[0m\u001b[01;31msimulationH5.oeb.gz\u001b[0m\r\n",
      "-rw-r--r-- 1 nathanlim nathan-x220 8.7M Feb 19 21:21 simulation_out.nc\r\n",
      "-rw-r--r-- 1 nathanlim nathan-x220 8.6M Feb 19 21:20 \u001b[01;31msimulationNC2.oeb.gz\u001b[0m\r\n",
      "-rw-r--r-- 1 nathanlim nathan-x220 2.5M Feb 19 20:57 simulation.pdb\r\n",
      "-rw-r--r-- 1 nathanlim nathan-x220 3.8M Feb 19 20:57 simulation.nc\r\n",
      "-rw-r--r-- 1 nathanlim nathan-x220 5.5M Feb 19 20:57 simulation.h5\r\n"
     ]
    }
   ],
   "source": [
    "%ls -lht simulation*"
   ]
  },
  {
   "cell_type": "code",
   "execution_count": 207,
   "metadata": {
    "collapsed": false
   },
   "outputs": [
    {
     "name": "stdout",
     "output_type": "stream",
     "text": [
      "<Topology; 3 chains, 10084 residues, 32354 atoms, 22455 bonds>\n",
      "(3.439, 1.0102, 4.459300000000001) nm\n",
      "<class 'str'>\n",
      "8859284\n"
     ]
    }
   ],
   "source": [
    "simmol = oechem.OEMol()\n",
    "with oechem.oemolistream('simulationH5.oeb.gz') as ifs:\n",
    "    if not oechem.OEReadMolecule(ifs, simmol):\n",
    "        raise RuntimeError(\"Error reading complex pdb\")\n",
    "        \n",
    "    encoded_pdb = simmol.GetData(oechem.OEGetTag('pdb'))\n",
    "    pdbfile = app.PDBFile(io.StringIO(encoded_pdb))\n",
    "    print(pdbfile.topology)\n",
    "    print(pdbfile.positions[0])\n",
    "    \n",
    "    encoded_traj = simmol.GetData(oechem.OEGetTag('traj'))\n",
    "    print(type(traj))\n",
    "    print(len(traj))\n",
    "    decoded_traj = base64.b64decode(encoded_traj)\n",
    "    regen_traj = pickle.loads(decoded_traj)\n",
    "    regen_traj.save('regen_ttraj.h5')\n",
    "    #with open('simulation_out.nc', 'wb') as outfile:\n",
    "    #    outfile.write(traj.encode())"
   ]
  },
  {
   "cell_type": "code",
   "execution_count": 210,
   "metadata": {
    "collapsed": false
   },
   "outputs": [
    {
     "data": {
      "text/plain": [
       "True"
      ]
     },
     "execution_count": 210,
     "metadata": {},
     "output_type": "execute_result"
    }
   ],
   "source": [
    "h5traj.n_atoms == regen_traj.n_atoms"
   ]
  },
  {
   "cell_type": "code",
   "execution_count": null,
   "metadata": {
    "collapsed": true
   },
   "outputs": [],
   "source": []
  }
 ],
 "metadata": {
  "anaconda-cloud": {},
  "kernelspec": {
   "display_name": "Python [default]",
   "language": "python",
   "name": "python3"
  },
  "language_info": {
   "codemirror_mode": {
    "name": "ipython",
    "version": 3
   },
   "file_extension": ".py",
   "mimetype": "text/x-python",
   "name": "python",
   "nbconvert_exporter": "python",
   "pygments_lexer": "ipython3",
   "version": "3.5.2"
  }
 },
 "nbformat": 4,
 "nbformat_minor": 1
}
