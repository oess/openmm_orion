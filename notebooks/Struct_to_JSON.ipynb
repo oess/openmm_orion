{
 "cells": [
  {
   "cell_type": "code",
   "execution_count": null,
   "metadata": {
    "collapsed": true
   },
   "outputs": [],
   "source": [
    "from simtk import unit, openmm\n",
    "from simtk.openmm import app\n",
    "import numpy as np\n",
    "from openeye import oechem\n",
    "import os, smarty, parmed, openmoltools, pdbfixer \n",
    "from openmoltools import forcefield_generators"
   ]
  },
  {
   "cell_type": "code",
   "execution_count": 5,
   "metadata": {
    "collapsed": false
   },
   "outputs": [
    {
     "name": "stdout",
     "output_type": "stream",
     "text": [
      "<Structure 15 atoms; 1 residues; 15 bonds; parametrized>\n",
      "<Topology; 1 chains, 1 residues, 15 atoms, 15 bonds>\n",
      "ResidueList([\n",
      "\t<Residue LIG[0]; chain=1>\n",
      "])\n"
     ]
    }
   ],
   "source": [
    "# Generate SMIRNOFF ligand mol object\n",
    "mol = oechem.OEMol()\n",
    "molpdb = '../OpenMMCubes/tests/input/toluene.pdb'\n",
    "ffxml = open('../OpenMMCubes/tests/input/forcefield/smirff99Frosst.ffxml', 'rb')\n",
    "with oechem.oemolistream(molpdb) as ifs:\n",
    "    oechem.OEReadMolecule(ifs, mol)\n",
    "    with oechem.oemolostream('smirff_mol.oeb.gz') as ofs:\n",
    "        mol.SetData(oechem.OEGetTag('forcefield'), ffxml.read())\n",
    "        oechem.OEWriteMolecule(ofs, mol)\n",
    "# Read the SMIRNOFF ligand Structure object\n",
    "from smarty.forcefield import ForceField\n",
    "with oechem.oemolistream('smirff_mol.oeb.gz') as ifs:\n",
    "    ffxml = mol.GetData(oechem.OEGetTag('forcefield')).encode()\n",
    "    with open('mol_parameters.ffxml', 'wb') as out:\n",
    "        out.write(ffxml)\n",
    "mol_ff = ForceField(open('mol_parameters.ffxml'))\n",
    "mol_top, mol_sys, mol_pos = smarty.forcefield_utils.create_system_from_molecule(mol_ff, mol)\n",
    "molecule_structure = parmed.openmm.load_topology(mol_top, mol_sys, xyz=mol_pos)\n",
    "molecule_structure.residues[0].name = \"LIG\"\n",
    "print(molecule_structure)\n",
    "print(molecule_structure.topology)\n",
    "print(molecule_structure.residues)"
   ]
  },
  {
   "cell_type": "code",
   "execution_count": 6,
   "metadata": {
    "collapsed": false
   },
   "outputs": [
    {
     "name": "stdout",
     "output_type": "stream",
     "text": [
      "{'space_group': 'P 1', 'residues': ResidueList([\n",
      "\t<Residue LIG[0]; chain=1>\n",
      "]), 'pi_torsions': [], 'exclusions': [(), (), (), (), (), (), (), (), (), (), (), (), (), (), ()], 'nrexcl': 3, 'out_of_plane_bends': [], 'urey_bradleys': [], 'dihedral_types': TrackedList([\n",
      "\t<DihedralType; phi_k=3.625, per=2, phase=180.000,  scee=1.000, scnb=1.000>\n",
      "\t<DihedralType; phi_k=0.000, per=3, phase=0.000,  scee=1.000, scnb=1.000>\n",
      "\t<DihedralType; phi_k=0.183, per=2, phase=180.000,  scee=1.000, scnb=1.000>\n",
      "]), 'title': '', 'urey_bradley_types': TrackedList([\n",
      "]), '_coordinates': array([[[ 22.37000084,  21.68000031,  29.77000046],\n",
      "        [ 22.60000038,  22.93000031,  30.42000008],\n",
      "        [ 23.39999962,  21.07999992,  29.01000023],\n",
      "        [ 23.76000023,  23.59000015,  30.25      ],\n",
      "        [ 24.62000084,  21.76000023,  28.95000076],\n",
      "        [ 24.82999992,  22.97999954,  29.57999992],\n",
      "        [ 26.10000038,  23.68000031,  29.39999962],\n",
      "        [ 21.38999939,  21.21999931,  29.86000061],\n",
      "        [ 21.82999992,  23.42000008,  31.02000046],\n",
      "        [ 23.14999962,  20.18000031,  28.45999908],\n",
      "        [ 23.98999977,  24.56999969,  30.68000031],\n",
      "        [ 25.44000053,  21.27000046,  28.40999985],\n",
      "        [ 25.90999985,  24.72999954,  29.14999962],\n",
      "        [ 26.67000008,  23.63999939,  30.34000015],\n",
      "        [ 26.79000092,  23.19000053,  28.71999931]]]), 'rb_torsions': [], 'groups': TrackedList([\n",
      "]), 'angles': [(0, 1, 8, 0), (3, 5, 4, 1), (5, 6, 12, 2), (5, 6, 13, 2), (12, 6, 13, 3), (0, 1, 3, 1), (5, 3, 10, 0), (3, 1, 8, 0), (5, 6, 14, 2), (4, 5, 6, 1), (1, 0, 7, 0), (1, 3, 5, 1), (0, 2, 9, 0), (12, 6, 14, 3), (4, 2, 9, 0), (2, 0, 7, 0), (1, 3, 10, 0), (2, 4, 11, 0), (5, 4, 11, 0), (3, 5, 6, 1), (2, 4, 5, 1), (1, 0, 2, 1), (13, 6, 14, 3), (0, 2, 4, 1)], 'trigonal_angles': [], 'angle_types': TrackedList([\n",
      "\t<AngleType; k=50.000, theteq=120.000>\n",
      "\t<AngleType; k=70.000, theteq=120.000>\n",
      "\t<AngleType; k=50.000, theteq=109.500>\n",
      "\t<AngleType; k=35.000, theteq=109.500>\n",
      "]), 'stretch_bends': [], 'chiral_frames': [], '_box': None, 'unknown_functional': False, 'adjusts': [(2, 3, 0), (1, 4, 1), (0, 5, 2), (1, 6, 3), (2, 6, 4), (3, 7, 5), (4, 7, 6), (2, 8, 7), (5, 8, 8), (7, 8, 9), (1, 9, 10), (5, 9, 11), (7, 9, 12), (0, 10, 13), (4, 10, 14), (6, 10, 15), (8, 10, 16), (0, 11, 17), (3, 11, 18), (6, 11, 19), (9, 11, 20), (3, 12, 21), (4, 12, 22), (3, 13, 23), (4, 13, 24), (3, 14, 25), (4, 14, 26)], 'bond_types': TrackedList([\n",
      "\t<BondType; k=469.000, req=1.400>\n",
      "\t<BondType; k=367.000, req=1.080>\n",
      "\t<BondType; k=317.000, req=1.510>\n",
      "\t<BondType; k=340.000, req=1.090>\n",
      "]), 'torsion_torsions': [], 'rb_torsion_types': TrackedList([\n",
      "]), 'adjust_types': TrackedList([\n",
      "\t<NonbondedExceptionType; rmin=3.8160, epsilon=0.0430, chgscale=1.0000>\n",
      "\t<NonbondedExceptionType; rmin=3.8160, epsilon=0.0430, chgscale=1.0000>\n",
      "\t<NonbondedExceptionType; rmin=3.8160, epsilon=0.0430, chgscale=1.0000>\n",
      "\t<NonbondedExceptionType; rmin=3.8160, epsilon=0.0485, chgscale=1.0000>\n",
      "\t<NonbondedExceptionType; rmin=3.8160, epsilon=0.0485, chgscale=1.0000>\n",
      "\t<NonbondedExceptionType; rmin=3.3670, epsilon=0.0180, chgscale=1.0000>\n",
      "\t<NonbondedExceptionType; rmin=3.3670, epsilon=0.0180, chgscale=1.0000>\n",
      "\t<NonbondedExceptionType; rmin=3.3670, epsilon=0.0180, chgscale=1.0000>\n",
      "\t<NonbondedExceptionType; rmin=3.3670, epsilon=0.0180, chgscale=1.0000>\n",
      "\t<NonbondedExceptionType; rmin=2.9180, epsilon=0.0075, chgscale=1.0000>\n",
      "\t<NonbondedExceptionType; rmin=3.3670, epsilon=0.0180, chgscale=1.0000>\n",
      "\t<NonbondedExceptionType; rmin=3.3670, epsilon=0.0180, chgscale=1.0000>\n",
      "\t<NonbondedExceptionType; rmin=2.9180, epsilon=0.0075, chgscale=1.0000>\n",
      "\t<NonbondedExceptionType; rmin=3.3670, epsilon=0.0180, chgscale=1.0000>\n",
      "\t<NonbondedExceptionType; rmin=3.3670, epsilon=0.0180, chgscale=1.0000>\n",
      "\t<NonbondedExceptionType; rmin=3.3670, epsilon=0.0203, chgscale=1.0000>\n",
      "\t<NonbondedExceptionType; rmin=2.9180, epsilon=0.0075, chgscale=1.0000>\n",
      "\t<NonbondedExceptionType; rmin=3.3670, epsilon=0.0180, chgscale=1.0000>\n",
      "\t<NonbondedExceptionType; rmin=3.3670, epsilon=0.0180, chgscale=1.0000>\n",
      "\t<NonbondedExceptionType; rmin=3.3670, epsilon=0.0203, chgscale=1.0000>\n",
      "\t<NonbondedExceptionType; rmin=2.9180, epsilon=0.0075, chgscale=1.0000>\n",
      "\t<NonbondedExceptionType; rmin=3.3950, epsilon=0.0184, chgscale=1.0000>\n",
      "\t<NonbondedExceptionType; rmin=3.3950, epsilon=0.0184, chgscale=1.0000>\n",
      "\t<NonbondedExceptionType; rmin=3.3950, epsilon=0.0184, chgscale=1.0000>\n",
      "\t<NonbondedExceptionType; rmin=3.3950, epsilon=0.0184, chgscale=1.0000>\n",
      "\t<NonbondedExceptionType; rmin=3.3950, epsilon=0.0184, chgscale=1.0000>\n",
      "\t<NonbondedExceptionType; rmin=3.3950, epsilon=0.0184, chgscale=1.0000>\n",
      "]), 'donors': [], 'multipole_frames': [], 'cmap_types': TrackedList([\n",
      "]), 'pi_torsion_types': TrackedList([\n",
      "]), '_combining_rule': 'lorentz', 'cmaps': [], 'bonds': [(0, 7, 1), (0, 1, 0), (0, 2, 0), (1, 8, 1), (1, 3, 0), (2, 9, 1), (2, 4, 0), (3, 10, 1), (3, 5, 0), (4, 11, 1), (4, 5, 0), (5, 6, 2), (6, 12, 3), (6, 13, 3), (6, 14, 3)], 'torsion_torsion_types': TrackedList([\n",
      "]), 'stretch_bend_types': TrackedList([\n",
      "]), 'dihedrals': [(7, 0, 2, 9, False, False, 0), (2, 0, 1, 3, False, False, 0), (1, 3, 5, 4, False, False, 0), (9, 2, 4, 11, False, False, 0), (2, 0, 1, 8, False, False, 0), (3, 1, 0, 7, False, False, 0), (2, 4, 5, 3, False, False, 0), (0, 2, 4, 5, False, False, 0), (0, 1, 3, 10, False, False, 0), (4, 5, 6, 13, False, False, 1), (5, 4, 2, 9, False, False, 0), (8, 1, 3, 10, False, False, 0), (6, 5, 3, 10, False, False, 0), (7, 0, 1, 8, False, False, 0), (1, 3, 5, 6, False, False, 0), (3, 5, 6, 12, False, False, 1), (0, 1, 3, 5, False, False, 0), (5, 3, 1, 8, False, False, 0), (4, 5, 6, 12, False, False, 1), (6, 5, 4, 11, False, False, 0), (1, 0, 2, 9, False, False, 0), (3, 5, 4, 11, False, False, 0), (1, 0, 2, 4, False, False, 0), (4, 5, 6, 14, False, False, 1), (0, 2, 4, 11, False, False, 0), (3, 5, 6, 14, False, False, 1), (4, 2, 0, 7, False, False, 0), (4, 5, 3, 10, False, False, 0), (3, 5, 6, 13, False, False, 1), (2, 4, 5, 6, False, False, 0), (1, 3, 5, 10, False, False, 2), (1, 3, 10, 5, False, False, 2), (5, 3, 1, 10, False, False, 2), (5, 3, 10, 1, False, False, 2), (10, 3, 1, 5, False, False, 2), (10, 3, 5, 1, False, False, 2), (0, 1, 3, 8, False, False, 2), (0, 1, 8, 3, False, False, 2), (3, 1, 0, 8, False, False, 2), (3, 1, 8, 0, False, False, 2), (8, 1, 0, 3, False, False, 2), (8, 1, 3, 0, False, False, 2), (2, 4, 5, 11, False, False, 2), (2, 4, 11, 5, False, False, 2), (5, 4, 2, 11, False, False, 2), (5, 4, 11, 2, False, False, 2), (11, 4, 2, 5, False, False, 2), (11, 4, 5, 2, False, False, 2), (0, 2, 4, 9, False, False, 2), (0, 2, 9, 4, False, False, 2), (4, 2, 0, 9, False, False, 2), (4, 2, 9, 0, False, False, 2), (9, 2, 0, 4, False, False, 2), (9, 2, 4, 0, False, False, 2), (3, 5, 4, 6, False, False, 2), (3, 5, 6, 4, False, False, 2), (4, 5, 3, 6, False, False, 2), (4, 5, 6, 3, False, False, 2), (6, 5, 3, 4, False, False, 2), (6, 5, 4, 3, False, False, 2), (1, 0, 2, 7, False, False, 2), (1, 0, 7, 2, False, False, 2), (2, 0, 1, 7, False, False, 2), (2, 0, 7, 1, False, False, 2), (7, 0, 1, 2, False, False, 2), (7, 0, 2, 1, False, False, 2)], 'impropers': [], 'improper_types': TrackedList([\n",
      "]), 'out_of_plane_bend_types': TrackedList([\n",
      "]), 'acceptors': [], 'trigonal_angle_types': TrackedList([\n",
      "])}\n"
     ]
    }
   ],
   "source": [
    "struct_dict = molecule_structure.__getstate__()\n",
    "print(struct_dict)"
   ]
  },
  {
   "cell_type": "code",
   "execution_count": 11,
   "metadata": {
    "collapsed": true
   },
   "outputs": [],
   "source": [
    "import json, pickle"
   ]
  },
  {
   "cell_type": "code",
   "execution_count": 15,
   "metadata": {
    "collapsed": false
   },
   "outputs": [
    {
     "ename": "TypeError",
     "evalue": "<Residue LIG[0]; chain=1> is not JSON serializable",
     "output_type": "error",
     "traceback": [
      "\u001b[0;31m---------------------------------------------------------------------------\u001b[0m",
      "\u001b[0;31mTypeError\u001b[0m                                 Traceback (most recent call last)",
      "\u001b[0;32m<ipython-input-15-4ff47e2aceeb>\u001b[0m in \u001b[0;36m<module>\u001b[0;34m()\u001b[0m\n\u001b[0;32m----> 1\u001b[0;31m \u001b[0mjson_dict\u001b[0m \u001b[0;34m=\u001b[0m \u001b[0mjson\u001b[0m\u001b[0;34m.\u001b[0m\u001b[0mdumps\u001b[0m\u001b[0;34m(\u001b[0m\u001b[0mstruct_dict\u001b[0m\u001b[0;34m,\u001b[0m \u001b[0mseparators\u001b[0m\u001b[0;34m=\u001b[0m\u001b[0;34m(\u001b[0m\u001b[0;34m','\u001b[0m\u001b[0;34m,\u001b[0m \u001b[0;34m':'\u001b[0m\u001b[0;34m)\u001b[0m\u001b[0;34m)\u001b[0m\u001b[0;34m\u001b[0m\u001b[0m\n\u001b[0m",
      "\u001b[0;32m/home/limn1/anaconda3/envs/dev/lib/python3.5/json/__init__.py\u001b[0m in \u001b[0;36mdumps\u001b[0;34m(obj, skipkeys, ensure_ascii, check_circular, allow_nan, cls, indent, separators, default, sort_keys, **kw)\u001b[0m\n\u001b[1;32m    235\u001b[0m         \u001b[0mcheck_circular\u001b[0m\u001b[0;34m=\u001b[0m\u001b[0mcheck_circular\u001b[0m\u001b[0;34m,\u001b[0m \u001b[0mallow_nan\u001b[0m\u001b[0;34m=\u001b[0m\u001b[0mallow_nan\u001b[0m\u001b[0;34m,\u001b[0m \u001b[0mindent\u001b[0m\u001b[0;34m=\u001b[0m\u001b[0mindent\u001b[0m\u001b[0;34m,\u001b[0m\u001b[0;34m\u001b[0m\u001b[0m\n\u001b[1;32m    236\u001b[0m         \u001b[0mseparators\u001b[0m\u001b[0;34m=\u001b[0m\u001b[0mseparators\u001b[0m\u001b[0;34m,\u001b[0m \u001b[0mdefault\u001b[0m\u001b[0;34m=\u001b[0m\u001b[0mdefault\u001b[0m\u001b[0;34m,\u001b[0m \u001b[0msort_keys\u001b[0m\u001b[0;34m=\u001b[0m\u001b[0msort_keys\u001b[0m\u001b[0;34m,\u001b[0m\u001b[0;34m\u001b[0m\u001b[0m\n\u001b[0;32m--> 237\u001b[0;31m         **kw).encode(obj)\n\u001b[0m\u001b[1;32m    238\u001b[0m \u001b[0;34m\u001b[0m\u001b[0m\n\u001b[1;32m    239\u001b[0m \u001b[0;34m\u001b[0m\u001b[0m\n",
      "\u001b[0;32m/home/limn1/anaconda3/envs/dev/lib/python3.5/json/encoder.py\u001b[0m in \u001b[0;36mencode\u001b[0;34m(self, o)\u001b[0m\n\u001b[1;32m    196\u001b[0m         \u001b[0;31m# exceptions aren't as detailed.  The list call should be roughly\u001b[0m\u001b[0;34m\u001b[0m\u001b[0;34m\u001b[0m\u001b[0m\n\u001b[1;32m    197\u001b[0m         \u001b[0;31m# equivalent to the PySequence_Fast that ''.join() would do.\u001b[0m\u001b[0;34m\u001b[0m\u001b[0;34m\u001b[0m\u001b[0m\n\u001b[0;32m--> 198\u001b[0;31m         \u001b[0mchunks\u001b[0m \u001b[0;34m=\u001b[0m \u001b[0mself\u001b[0m\u001b[0;34m.\u001b[0m\u001b[0miterencode\u001b[0m\u001b[0;34m(\u001b[0m\u001b[0mo\u001b[0m\u001b[0;34m,\u001b[0m \u001b[0m_one_shot\u001b[0m\u001b[0;34m=\u001b[0m\u001b[0;32mTrue\u001b[0m\u001b[0;34m)\u001b[0m\u001b[0;34m\u001b[0m\u001b[0m\n\u001b[0m\u001b[1;32m    199\u001b[0m         \u001b[0;32mif\u001b[0m \u001b[0;32mnot\u001b[0m \u001b[0misinstance\u001b[0m\u001b[0;34m(\u001b[0m\u001b[0mchunks\u001b[0m\u001b[0;34m,\u001b[0m \u001b[0;34m(\u001b[0m\u001b[0mlist\u001b[0m\u001b[0;34m,\u001b[0m \u001b[0mtuple\u001b[0m\u001b[0;34m)\u001b[0m\u001b[0;34m)\u001b[0m\u001b[0;34m:\u001b[0m\u001b[0;34m\u001b[0m\u001b[0m\n\u001b[1;32m    200\u001b[0m             \u001b[0mchunks\u001b[0m \u001b[0;34m=\u001b[0m \u001b[0mlist\u001b[0m\u001b[0;34m(\u001b[0m\u001b[0mchunks\u001b[0m\u001b[0;34m)\u001b[0m\u001b[0;34m\u001b[0m\u001b[0m\n",
      "\u001b[0;32m/home/limn1/anaconda3/envs/dev/lib/python3.5/json/encoder.py\u001b[0m in \u001b[0;36miterencode\u001b[0;34m(self, o, _one_shot)\u001b[0m\n\u001b[1;32m    254\u001b[0m                 \u001b[0mself\u001b[0m\u001b[0;34m.\u001b[0m\u001b[0mkey_separator\u001b[0m\u001b[0;34m,\u001b[0m \u001b[0mself\u001b[0m\u001b[0;34m.\u001b[0m\u001b[0mitem_separator\u001b[0m\u001b[0;34m,\u001b[0m \u001b[0mself\u001b[0m\u001b[0;34m.\u001b[0m\u001b[0msort_keys\u001b[0m\u001b[0;34m,\u001b[0m\u001b[0;34m\u001b[0m\u001b[0m\n\u001b[1;32m    255\u001b[0m                 self.skipkeys, _one_shot)\n\u001b[0;32m--> 256\u001b[0;31m         \u001b[0;32mreturn\u001b[0m \u001b[0m_iterencode\u001b[0m\u001b[0;34m(\u001b[0m\u001b[0mo\u001b[0m\u001b[0;34m,\u001b[0m \u001b[0;36m0\u001b[0m\u001b[0;34m)\u001b[0m\u001b[0;34m\u001b[0m\u001b[0m\n\u001b[0m\u001b[1;32m    257\u001b[0m \u001b[0;34m\u001b[0m\u001b[0m\n\u001b[1;32m    258\u001b[0m def _make_iterencode(markers, _default, _encoder, _indent, _floatstr,\n",
      "\u001b[0;32m/home/limn1/anaconda3/envs/dev/lib/python3.5/json/encoder.py\u001b[0m in \u001b[0;36mdefault\u001b[0;34m(self, o)\u001b[0m\n\u001b[1;32m    177\u001b[0m \u001b[0;34m\u001b[0m\u001b[0m\n\u001b[1;32m    178\u001b[0m         \"\"\"\n\u001b[0;32m--> 179\u001b[0;31m         \u001b[0;32mraise\u001b[0m \u001b[0mTypeError\u001b[0m\u001b[0;34m(\u001b[0m\u001b[0mrepr\u001b[0m\u001b[0;34m(\u001b[0m\u001b[0mo\u001b[0m\u001b[0;34m)\u001b[0m \u001b[0;34m+\u001b[0m \u001b[0;34m\" is not JSON serializable\"\u001b[0m\u001b[0;34m)\u001b[0m\u001b[0;34m\u001b[0m\u001b[0m\n\u001b[0m\u001b[1;32m    180\u001b[0m \u001b[0;34m\u001b[0m\u001b[0m\n\u001b[1;32m    181\u001b[0m     \u001b[0;32mdef\u001b[0m \u001b[0mencode\u001b[0m\u001b[0;34m(\u001b[0m\u001b[0mself\u001b[0m\u001b[0;34m,\u001b[0m \u001b[0mo\u001b[0m\u001b[0;34m)\u001b[0m\u001b[0;34m:\u001b[0m\u001b[0;34m\u001b[0m\u001b[0m\n",
      "\u001b[0;31mTypeError\u001b[0m: <Residue LIG[0]; chain=1> is not JSON serializable"
     ]
    }
   ],
   "source": [
    "json_dict = json.dumps(struct_dict, separators=(',', ':'))"
   ]
  }
 ],
 "metadata": {
  "anaconda-cloud": {},
  "kernelspec": {
   "display_name": "Python [conda env:dev]",
   "language": "python",
   "name": "conda-env-dev-py"
  },
  "language_info": {
   "codemirror_mode": {
    "name": "ipython",
    "version": 3
   },
   "file_extension": ".py",
   "mimetype": "text/x-python",
   "name": "python",
   "nbconvert_exporter": "python",
   "pygments_lexer": "ipython3",
   "version": "3.5.2"
  }
 },
 "nbformat": 4,
 "nbformat_minor": 1
}
