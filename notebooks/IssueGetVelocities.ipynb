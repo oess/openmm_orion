{
 "cells": [
  {
   "cell_type": "code",
   "execution_count": 1,
   "metadata": {
    "collapsed": true,
    "deletable": true,
    "editable": true
   },
   "outputs": [],
   "source": [
    "#!/usr/bin/env python\n",
    "################################################################\n",
    "#  Copyright (C) 2015 OpenEye Scientific Software, Inc.\n",
    "################################################################\n",
    "from __future__ import print_function\n",
    "import os, sys\n",
    "import numpy as np"
   ]
  },
  {
   "cell_type": "code",
   "execution_count": 2,
   "metadata": {
    "collapsed": true,
    "deletable": true,
    "editable": true
   },
   "outputs": [],
   "source": [
    "import openeye.oechem as oechem"
   ]
  },
  {
   "cell_type": "code",
   "execution_count": 3,
   "metadata": {
    "collapsed": false,
    "deletable": true,
    "editable": true
   },
   "outputs": [
    {
     "data": {
      "text/plain": [
       "True"
      ]
     },
     "execution_count": 3,
     "metadata": {},
     "output_type": "execute_result"
    }
   ],
   "source": [
    "inFileName = 'WNE6S-warmup.oeb.gz'\n",
    "ifs = oechem.oemolistream(inFileName)\n",
    "mol = oechem.OEMol()\n",
    "oechem.OEReadMolecule(ifs, mol)"
   ]
  },
  {
   "cell_type": "code",
   "execution_count": 4,
   "metadata": {
    "collapsed": false,
    "deletable": true,
    "editable": true
   },
   "outputs": [
    {
     "name": "stdout",
     "output_type": "stream",
     "text": [
      "32357\n"
     ]
    }
   ],
   "source": [
    "print( mol.NumAtoms())"
   ]
  },
  {
   "cell_type": "code",
   "execution_count": 5,
   "metadata": {
    "collapsed": false,
    "deletable": true,
    "editable": true
   },
   "outputs": [],
   "source": [
    "outFileName = 'out.pdb'\n",
    "ofs = oechem.oemolostream(outFileName)\n",
    "flavor = ofs.GetFlavor(oechem.OEFormat_PDB) ^ oechem.OEOFlavor_PDB_OrderAtoms\n",
    "ofs.SetFlavor(oechem.OEFormat_PDB, flavor)\n",
    "oechem.OEWriteConstMolecule(ofs, mol)\n",
    "ofs.close()"
   ]
  },
  {
   "cell_type": "code",
   "execution_count": 6,
   "metadata": {
    "collapsed": false,
    "deletable": true,
    "editable": true
   },
   "outputs": [],
   "source": [
    "from simtk import unit, openmm\n",
    "from simtk.openmm import app\n",
    "from simtk.openmm import XmlSerializer\n",
    "\n",
    "import parmed\n",
    "import base64\n",
    "import pickle\n",
    "\n",
    "import json\n",
    "import plmd\n",
    "import LoggingStopwatch"
   ]
  },
  {
   "cell_type": "code",
   "execution_count": 7,
   "metadata": {
    "collapsed": false,
    "deletable": true,
    "editable": true
   },
   "outputs": [
    {
     "name": "stdout",
     "output_type": "stream",
     "text": [
      "mol GetData finds tag: structure\n"
     ]
    }
   ],
   "source": [
    "structTag = 'structure'\n",
    "if structTag in mol.GetData().keys():\n",
    "    print('mol GetData finds tag:', structTag)\n",
    "    encoded_struct = mol.GetData( structTag)"
   ]
  },
  {
   "cell_type": "code",
   "execution_count": 8,
   "metadata": {
    "collapsed": true,
    "deletable": true,
    "editable": true
   },
   "outputs": [],
   "source": [
    "decoded_structure = base64.b64decode( encoded_struct)\n",
    "struct_dict = pickle.loads(decoded_structure)\n",
    "struct = parmed.structure.Structure()\n",
    "struct.__setstate__(struct_dict)\n",
    "#help( struct)"
   ]
  },
  {
   "cell_type": "code",
   "execution_count": 9,
   "metadata": {
    "collapsed": false,
    "deletable": true,
    "editable": true
   },
   "outputs": [],
   "source": [
    "topology = struct.topology\n",
    "initPositions = struct.positions\n",
    "#help( topology)"
   ]
  },
  {
   "cell_type": "code",
   "execution_count": 10,
   "metadata": {
    "collapsed": false,
    "deletable": true,
    "editable": true
   },
   "outputs": [
    {
     "name": "stdout",
     "output_type": "stream",
     "text": [
      "(33.43, 11.279999999999999, 44.490000000000009) A\n"
     ]
    }
   ],
   "source": [
    "#help( initPositions)\n",
    "print(initPositions[0])"
   ]
  },
  {
   "cell_type": "code",
   "execution_count": 11,
   "metadata": {
    "collapsed": false,
    "deletable": true,
    "editable": true
   },
   "outputs": [
    {
     "name": "stdout",
     "output_type": "stream",
     "text": [
      "mol GetData finds tag: system\n"
     ]
    }
   ],
   "source": [
    "#return openmm.XmlSerializer.deserialize(serialized_system)\n",
    "systemTag = 'system'\n",
    "if systemTag in mol.GetData().keys():\n",
    "    print('mol GetData finds tag:', systemTag)\n",
    "    serialized_system = mol.GetData( systemTag)"
   ]
  },
  {
   "cell_type": "code",
   "execution_count": 12,
   "metadata": {
    "collapsed": false,
    "deletable": true,
    "editable": true,
    "scrolled": true
   },
   "outputs": [],
   "source": [
    "system = openmm.XmlSerializer.deserialize(serialized_system)\n",
    "#help( system)"
   ]
  },
  {
   "cell_type": "code",
   "execution_count": 13,
   "metadata": {
    "collapsed": false,
    "deletable": true,
    "editable": true
   },
   "outputs": [
    {
     "name": "stdout",
     "output_type": "stream",
     "text": [
      "mol GetData finds tag: state\n"
     ]
    }
   ],
   "source": [
    "if 'state' in mol.GetData().keys():\n",
    "    print('mol GetData finds tag:', 'state')\n",
    "    mol.GetData(oechem.OEGetTag('state'))\n",
    "    serialized_state = mol.GetData(oechem.OEGetTag('state'))"
   ]
  },
  {
   "cell_type": "code",
   "execution_count": 14,
   "metadata": {
    "collapsed": true,
    "deletable": true,
    "editable": true
   },
   "outputs": [],
   "source": [
    "state = openmm.XmlSerializer.deserialize( serialized_state )"
   ]
  },
  {
   "cell_type": "code",
   "execution_count": 17,
   "metadata": {
    "collapsed": false,
    "deletable": true,
    "editable": true
   },
   "outputs": [
    {
     "name": "stdout",
     "output_type": "stream",
     "text": [
      "32357\n",
      "(3.3569929599761963, 1.1250951290130615, 4.444279670715332) nm\n"
     ]
    },
    {
     "ename": "TypeError",
     "evalue": "Velocities were not requested in getState() call, so are not available.",
     "output_type": "error",
     "traceback": [
      "\u001b[0;31m---------------------------------------------------------------------------\u001b[0m",
      "\u001b[0;31mTypeError\u001b[0m                                 Traceback (most recent call last)",
      "\u001b[0;32m<ipython-input-17-219c1eb466d2>\u001b[0m in \u001b[0;36m<module>\u001b[0;34m()\u001b[0m\n\u001b[1;32m      2\u001b[0m \u001b[0mprint\u001b[0m\u001b[0;34m(\u001b[0m \u001b[0mlen\u001b[0m\u001b[0;34m(\u001b[0m \u001b[0mpos\u001b[0m\u001b[0;34m)\u001b[0m\u001b[0;34m)\u001b[0m\u001b[0;34m\u001b[0m\u001b[0m\n\u001b[1;32m      3\u001b[0m \u001b[0mprint\u001b[0m\u001b[0;34m(\u001b[0m \u001b[0mpos\u001b[0m\u001b[0;34m[\u001b[0m\u001b[0;36m0\u001b[0m\u001b[0;34m]\u001b[0m\u001b[0;34m)\u001b[0m\u001b[0;34m\u001b[0m\u001b[0m\n\u001b[0;32m----> 4\u001b[0;31m \u001b[0mveloc\u001b[0m \u001b[0;34m=\u001b[0m \u001b[0mstate\u001b[0m\u001b[0;34m.\u001b[0m\u001b[0mgetVelocities\u001b[0m\u001b[0;34m(\u001b[0m\u001b[0;34m)\u001b[0m\u001b[0;34m\u001b[0m\u001b[0m\n\u001b[0m",
      "\u001b[0;32m/Users/bayly/miniconda/envs/orion_openmm/lib/python3.5/site-packages/simtk/openmm/openmm.py\u001b[0m in \u001b[0;36mgetVelocities\u001b[0;34m(self, asNumpy)\u001b[0m\n\u001b[1;32m   1776\u001b[0m            \"\"\"\n\u001b[1;32m   1777\u001b[0m         \u001b[0;32mif\u001b[0m \u001b[0mself\u001b[0m\u001b[0;34m.\u001b[0m\u001b[0m_velList\u001b[0m \u001b[0;32mis\u001b[0m \u001b[0;32mNone\u001b[0m\u001b[0;34m:\u001b[0m\u001b[0;34m\u001b[0m\u001b[0m\n\u001b[0;32m-> 1778\u001b[0;31m             \u001b[0;32mraise\u001b[0m \u001b[0mTypeError\u001b[0m\u001b[0;34m(\u001b[0m\u001b[0;34m'Velocities were not requested in getState() call, so are not available.'\u001b[0m\u001b[0;34m)\u001b[0m\u001b[0;34m\u001b[0m\u001b[0m\n\u001b[0m\u001b[1;32m   1779\u001b[0m \u001b[0;34m\u001b[0m\u001b[0m\n\u001b[1;32m   1780\u001b[0m         \u001b[0;32mif\u001b[0m \u001b[0masNumpy\u001b[0m\u001b[0;34m:\u001b[0m\u001b[0;34m\u001b[0m\u001b[0m\n",
      "\u001b[0;31mTypeError\u001b[0m: Velocities were not requested in getState() call, so are not available."
     ]
    }
   ],
   "source": [
    "pos = state.getPositions()\n",
    "print( len( pos))\n",
    "print( pos[0])\n",
    "veloc = state.getVelocities()"
   ]
  },
  {
   "cell_type": "code",
   "execution_count": 16,
   "metadata": {
    "collapsed": false,
    "deletable": true,
    "editable": true
   },
   "outputs": [
    {
     "name": "stdout",
     "output_type": "stream",
     "text": [
      "(6.995734810829163, 0.0, 0.0) nm\n",
      "(0.0, 6.995734810829163, 0.0) nm\n",
      "(0.0, 0.0, 6.995734810829163) nm\n"
     ]
    }
   ],
   "source": [
    "xvec, yvec, zvec = state.getPeriodicBoxVectors()\n",
    "print( xvec)\n",
    "print( yvec)\n",
    "print( zvec)"
   ]
  }
 ],
 "metadata": {
  "kernelspec": {
   "display_name": "Python 3",
   "language": "python",
   "name": "python3"
  },
  "language_info": {
   "codemirror_mode": {
    "name": "ipython",
    "version": 3
   },
   "file_extension": ".py",
   "mimetype": "text/x-python",
   "name": "python",
   "nbconvert_exporter": "python",
   "pygments_lexer": "ipython3",
   "version": "3.5.2"
  }
 },
 "nbformat": 4,
 "nbformat_minor": 0
}
