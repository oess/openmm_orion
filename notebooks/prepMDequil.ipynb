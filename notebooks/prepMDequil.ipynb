{
 "cells": [
  {
   "cell_type": "code",
   "execution_count": 1,
   "metadata": {
    "collapsed": true,
    "deletable": true,
    "editable": true
   },
   "outputs": [],
   "source": [
    "#!/usr/bin/env python\n",
    "################################################################\n",
    "#  Copyright (C) 2015 OpenEye Scientific Software, Inc.\n",
    "################################################################\n",
    "from __future__ import print_function\n",
    "import os, sys\n",
    "import numpy as np"
   ]
  },
  {
   "cell_type": "code",
   "execution_count": 2,
   "metadata": {
    "collapsed": true,
    "deletable": true,
    "editable": true
   },
   "outputs": [],
   "source": [
    "import openeye.oechem as oechem"
   ]
  },
  {
   "cell_type": "code",
   "execution_count": 3,
   "metadata": {
    "collapsed": false,
    "deletable": true,
    "editable": true
   },
   "outputs": [],
   "source": [
    "from simtk import unit, openmm\n",
    "from simtk.openmm import app\n",
    "from simtk.openmm import XmlSerializer\n",
    "from sys import stdout\n",
    "\n",
    "import parmed\n",
    "import base64\n",
    "import pickle\n",
    "\n",
    "import json\n",
    "import plmd"
   ]
  },
  {
   "cell_type": "code",
   "execution_count": 4,
   "metadata": {
    "collapsed": false,
    "deletable": true,
    "editable": true
   },
   "outputs": [
    {
     "data": {
      "text/plain": [
       "True"
      ]
     },
     "execution_count": 4,
     "metadata": {},
     "output_type": "execute_result"
    }
   ],
   "source": [
    "inFileName = 'input/WNE6S-warmup.oeb.gz'\n",
    "ifs = oechem.oemolistream(inFileName)\n",
    "mol = oechem.OEMol()\n",
    "oechem.OEReadMolecule(ifs, mol)"
   ]
  },
  {
   "cell_type": "code",
   "execution_count": 5,
   "metadata": {
    "collapsed": false,
    "deletable": true,
    "editable": true
   },
   "outputs": [
    {
     "name": "stdout",
     "output_type": "stream",
     "text": [
      "mol GetData finds tag: structure\n"
     ]
    }
   ],
   "source": [
    "structTag = 'structure'\n",
    "if structTag in mol.GetData().keys():\n",
    "    print('mol GetData finds tag:', structTag)\n",
    "    encoded_struct = mol.GetData( structTag)"
   ]
  },
  {
   "cell_type": "code",
   "execution_count": 6,
   "metadata": {
    "collapsed": true,
    "deletable": true,
    "editable": true
   },
   "outputs": [],
   "source": [
    "decoded_structure = base64.b64decode( encoded_struct)\n",
    "struct_dict = pickle.loads(decoded_structure)\n",
    "struct = parmed.structure.Structure()\n",
    "struct.__setstate__(struct_dict)\n",
    "#help( struct)"
   ]
  },
  {
   "cell_type": "code",
   "execution_count": 7,
   "metadata": {
    "collapsed": false,
    "deletable": true,
    "editable": true
   },
   "outputs": [],
   "source": [
    "topology = struct.topology\n",
    "initPositions = struct.positions"
   ]
  },
  {
   "cell_type": "code",
   "execution_count": 8,
   "metadata": {
    "collapsed": false,
    "deletable": true,
    "editable": true
   },
   "outputs": [
    {
     "name": "stdout",
     "output_type": "stream",
     "text": [
      "(33.43, 11.279999999999999, 44.490000000000009) A\n"
     ]
    }
   ],
   "source": [
    "print(initPositions[0])"
   ]
  },
  {
   "cell_type": "code",
   "execution_count": 9,
   "metadata": {
    "collapsed": false,
    "deletable": true,
    "editable": true
   },
   "outputs": [
    {
     "name": "stdout",
     "output_type": "stream",
     "text": [
      "mol GetData finds tag: system\n"
     ]
    }
   ],
   "source": [
    "systemTag = 'system'\n",
    "if systemTag in mol.GetData().keys():\n",
    "    print('mol GetData finds tag:', systemTag)\n",
    "    serialized_system = mol.GetData( systemTag)\n",
    "    system = openmm.XmlSerializer.deserialize(serialized_system)"
   ]
  },
  {
   "cell_type": "code",
   "execution_count": 10,
   "metadata": {
    "collapsed": false,
    "deletable": true,
    "editable": true
   },
   "outputs": [
    {
     "name": "stdout",
     "output_type": "stream",
     "text": [
      "mol GetData finds tag: state\n"
     ]
    }
   ],
   "source": [
    "if 'state' in mol.GetData().keys():\n",
    "    print('mol GetData finds tag:', 'state')\n",
    "    mol.GetData(oechem.OEGetTag('state'))\n",
    "    serialized_state = mol.GetData(oechem.OEGetTag('state'))\n",
    "    state = openmm.XmlSerializer.deserialize( serialized_state )"
   ]
  },
  {
   "cell_type": "code",
   "execution_count": 11,
   "metadata": {
    "collapsed": false,
    "deletable": true,
    "editable": true
   },
   "outputs": [
    {
     "name": "stdout",
     "output_type": "stream",
     "text": [
      "32357\n",
      "[(3.3569929599761963, 1.1250951290130615, 4.444279670715332), (3.36295747756958, 1.2007523775100708, 4.317758560180664), (3.222506284713745, 1.236323595046997, 4.273021697998047)] nm\n"
     ]
    }
   ],
   "source": [
    "pos = state.getPositions()\n",
    "print( len( pos))\n",
    "print( pos[:3])\n",
    "#veloc = state.getVelocities()"
   ]
  },
  {
   "cell_type": "code",
   "execution_count": 12,
   "metadata": {
    "collapsed": false,
    "deletable": true,
    "editable": true
   },
   "outputs": [
    {
     "name": "stdout",
     "output_type": "stream",
     "text": [
      "reading velocities from mol Generic Data with tag: OpenMM_Velocities_json\n"
     ]
    }
   ],
   "source": [
    "dataTagForOpenMM_velocities = 'OpenMM_Velocities_json'\n",
    "if mol.HasData(oechem.OEGetTag( dataTagForOpenMM_velocities)):\n",
    "    print('reading velocities from mol Generic Data with tag:', dataTagForOpenMM_velocities)\n",
    "    velocities = json.loads( mol.GetStringData( 'OpenMM_Velocities_json'))*(unit.nanometer/unit.picosecond)"
   ]
  },
  {
   "cell_type": "code",
   "execution_count": 13,
   "metadata": {
    "collapsed": false,
    "deletable": true,
    "editable": true
   },
   "outputs": [
    {
     "name": "stdout",
     "output_type": "stream",
     "text": [
      "32357\n",
      "[[0.03618885949254036, -0.557714581489563, 1.0361324548721313], [-0.3941652178764343, 0.4534037113189697, 0.5156360268592834], [0.06389316916465759, -0.3627958297729492, 0.11415818333625793]] nm/ps\n"
     ]
    }
   ],
   "source": [
    "print( len( velocities))\n",
    "print( velocities[:3])"
   ]
  },
  {
   "cell_type": "code",
   "execution_count": 14,
   "metadata": {
    "collapsed": false,
    "deletable": true,
    "editable": true
   },
   "outputs": [
    {
     "name": "stdout",
     "output_type": "stream",
     "text": [
      "reading OpenMM PLmask from mol Generic Data with tag: OpenMM_PLmaskDict_json\n"
     ]
    }
   ],
   "source": [
    "dataTagForOpenMM_PLmask = 'OpenMM_PLmaskDict_json'\n",
    "if mol.HasData(oechem.OEGetTag( dataTagForOpenMM_PLmask)):\n",
    "    print('reading OpenMM PLmask from mol Generic Data with tag:', dataTagForOpenMM_PLmask)\n",
    "    PLMask = json.loads(mol.GetStringData( dataTagForOpenMM_PLmask))"
   ]
  },
  {
   "cell_type": "code",
   "execution_count": 15,
   "metadata": {
    "collapsed": false,
    "deletable": true,
    "editable": true
   },
   "outputs": [],
   "source": [
    "OpenMMstuff = { 'idtag': 'WNE6S',\n",
    "                'system': system,\n",
    "                'topology': topology,\n",
    "                'positions': initPositions,\n",
    "                'velocities': velocities,\n",
    "                'state': state,\n",
    "                'PLmask': PLMask }"
   ]
  },
  {
   "cell_type": "code",
   "execution_count": 16,
   "metadata": {
    "collapsed": true,
    "deletable": true,
    "editable": true
   },
   "outputs": [],
   "source": [
    "argsDict = {'picosec': 5.0, 'temperature': 300.0, 'snapFreq': 0, 'restraintWt': 2.0}"
   ]
  },
  {
   "cell_type": "code",
   "execution_count": 17,
   "metadata": {
    "collapsed": false,
    "deletable": true,
    "editable": true
   },
   "outputs": [
    {
     "name": "stdout",
     "output_type": "stream",
     "text": [
      "RestrEquil: Warm up for 5 picoseconds with 2.0 kcal/mol/ang^2 restraints on all non-water non-Hydrogens\n",
      "RestrEquil: building system and simulation objects\n",
      "velCheck:  32357\n",
      "velCheck:  [(0.0, 0.0, 0.0), (0.0, 0.0, 0.0), (0.0, 0.0, 0.0)] nm/ps\n",
      "velocities:  32357\n",
      "velocities:  [[0.03618885949254036, -0.557714581489563, 1.0361324548721313], [-0.3941652178764343, 0.4534037113189697, 0.5156360268592834], [0.06389316916465759, -0.3627958297729492, 0.11415818333625793]] nm/ps\n"
     ]
    },
    {
     "name": "stderr",
     "output_type": "stream",
     "text": [
      "2017-02-20 14:13:24 1487625204.83 | 0.80 CPU sec: RestrEquil: system and simulation objects created and initialized\n"
     ]
    },
    {
     "name": "stdout",
     "output_type": "stream",
     "text": [
      "velCheck:  32357\n",
      "velCheck:  [(0.03618885949254036, -0.557714581489563, 1.0361324548721313), (-0.3941652178764343, 0.4534037113189697, 0.5156360268592834), (0.06389316916465759, -0.3627958297729492, 0.11415818333625793)] nm/ps\n",
      "RestrEquil: Computations will be done on platform: OpenCL\n",
      "reporting frequency is 50\n",
      "totalTimeSteps is 2500\n",
      "RestrEquil: starting MD for 5.000 picoseconds (2500 timesteps)\n",
      "#\"Step\",\"Time (ps)\",\"Potential Energy (kJ/mole)\",\"Kinetic Energy (kJ/mole)\",\"Total Energy (kJ/mole)\",\"Temperature (K)\",\"Density (g/mL)\"\n",
      "50,0.10000000000000007,-483861.14604205056,46381.74434831782,-437479.4016937327,146.88596063585936,0.9611142796970737\n",
      "100,0.20000000000000015,-477746.44661901286,50779.91059446847,-426966.5360245444,160.81447676174065,0.9612384510936428\n",
      "150,0.3000000000000002,-474248.99144321284,55470.274314481765,-418778.7171287311,175.66835063875286,0.9620367432747798\n",
      "200,0.4000000000000003,-470619.1630287387,59269.71896595234,-411349.44406278635,187.7007803232193,0.9620367432747798\n",
      "250,0.5000000000000003,-467613.0147846686,62917.14742432069,-404695.8673603479,199.25179118936057,0.9620367432747798\n",
      "300,0.6000000000000004,-465012.7990704784,66548.2212680562,-398464.5778024222,210.75100876236624,0.9652315796050159\n",
      "350,0.7000000000000005,-461759.767521505,68936.36577029739,-392823.40175120765,218.31400373544483,0.9691642547288514\n",
      "400,0.8000000000000006,-459742.0877446595,71520.27292162384,-388221.8148230357,226.4969578146658,0.9709464872831014\n",
      "450,0.9000000000000007,-457015.8434159588,73381.38691041339,-383634.4565055454,232.39090423555123,0.9709464872831014\n",
      "500,1.0000000000000007,-455177.63553275145,75410.9076230637,-379766.72790968773,238.8181765103773,0.9765879035016686\n",
      "550,1.1000000000000008,-453518.1331203508,77068.74146190187,-376449.3916584489,244.06835671411537,0.9793013935545843\n",
      "600,1.2000000000000008,-451371.58361215796,78641.04391654348,-372730.5396956145,249.04766828820732,0.9793013935545843\n",
      "650,1.300000000000001,-449584.7130802749,79917.7730867092,-369666.93999356567,253.0909312845982,0.9793013935545843\n",
      "700,1.400000000000001,-447558.9792760657,80989.80142303841,-366569.1778530273,256.4859289118552,0.9829147897594\n",
      "750,1.500000000000001,-446139.91707418393,82214.66103798407,-363925.25603619986,260.364926644977,0.9831904490778626\n",
      "800,1.6000000000000012,-444529.13613080233,83077.50565283629,-361451.63047796604,263.09746208349475,0.9831904490778626\n",
      "850,1.7000000000000013,-442464.67670431826,84089.46016490553,-358375.21653941274,266.3022124160568,0.9831904490778626\n",
      "900,1.8000000000000014,-441872.3722522543,85516.23652917822,-356356.13572307606,270.8206586242218,0.9831904490778626\n",
      "950,1.9000000000000015,-440463.1189169311,85833.22688188072,-354629.8920350504,271.8245327372638,0.9847110057731169\n",
      "1000,2.0000000000000013,-439475.5318202819,86920.34566781402,-352555.18615246785,275.26732018393494,0.9847110057731169\n",
      "1050,2.0999999999999903,-437897.5864513356,86988.9706766695,-350908.6157746661,275.48464815404503,0.9847110057731169\n",
      "1100,2.1999999999999793,-437384.19337574067,87766.84150359256,-349617.3518721481,277.94808080990083,0.9847110057731169\n",
      "1150,2.2999999999999683,-436472.89088960993,88177.28364685527,-348295.60724275466,279.24790662166487,0.9847110057731169\n",
      "1200,2.3999999999999573,-435131.5696042576,88069.2241172716,-347062.345486986,278.9056937956539,0.9847110057731169\n",
      "1250,2.4999999999999463,-434132.2284909447,88632.73759936297,-345499.49089158175,280.6902799579734,0.9847110057731169\n",
      "1300,2.5999999999999353,-434207.45431315084,89556.62806455838,-344650.82624859246,283.61614099250903,0.9847110057731169\n",
      "1350,2.6999999999999242,-433394.75865907106,90093.29408745229,-343301.46457161877,285.31570415946135,0.9847110057731169\n",
      "1400,2.7999999999999132,-432451.8593743392,90177.9760728199,-342273.8833015193,285.58388283501665,0.9847110057731169\n",
      "1450,2.899999999999902,-431801.6123610672,90666.02556822204,-341135.58679284516,287.1294827251723,0.9858434070767986\n",
      "1500,2.999999999999891,-430170.350240648,90331.18414723163,-339839.1660934164,286.06907621235354,0.9864227382705195\n",
      "1550,3.09999999999988,-430115.3712481421,91344.69007465767,-338770.6811734844,289.2787397093132,0.9864227382705195\n",
      "1600,3.199999999999869,-430443.30787268677,92329.65673776087,-338113.6511349259,292.398022447317,0.9864227382705195\n",
      "1650,3.299999999999858,-429668.94440720696,92347.11079511401,-337321.83361209295,292.4532975564646,0.9864227382705195\n",
      "1700,3.399999999999847,-429370.29263618146,92170.29167717183,-337200.00095900963,291.89333056163406,0.9864227382705195\n",
      "1750,3.499999999999836,-428989.5862930382,91989.19874918158,-337000.38754385663,291.31982887328775,0.9864227382705195\n",
      "1800,3.599999999999825,-428292.1379306542,92336.10518882493,-335956.0327418293,292.41844399339,0.9864227382705195\n",
      "1850,3.699999999999814,-427641.2872457304,91849.58089831693,-335791.7063474135,290.8776742619355,0.9864227382705195\n",
      "1900,3.799999999999803,-427460.8805012305,92270.03445561306,-335190.8460456174,292.2092051375837,0.9869659815981823\n",
      "1950,3.899999999999792,-428000.4536143297,92901.28441764205,-335099.16919668764,294.20830539516896,0.9869659815981823\n",
      "2000,3.999999999999781,-426868.7804252545,92276.2323718078,-334592.5480534467,292.2288332668616,0.9870433075784266\n",
      "2050,4.0999999999997705,-426670.1437417972,92459.31391961302,-334210.82982218417,292.8086326987699,0.9880240464412937\n",
      "2100,4.1999999999997595,-426515.14338627993,92744.4745128369,-333770.66887344304,293.7117054110988,0.9880240464412937\n",
      "2150,4.2999999999997485,-426693.2029174003,93266.25255476404,-333426.95036263624,295.3641199548814,0.9874618486508013\n",
      "2200,4.3999999999997375,-426364.1491605728,93640.70217643381,-332723.446984139,296.5499613491948,0.9882760696753562\n",
      "2250,4.499999999999726,-425666.8291235459,92817.58696343697,-332849.24216010893,293.94324462316865,0.9895926907976518\n",
      "2300,4.599999999999715,-425943.231193335,93377.02343661536,-332566.20775671967,295.7149193398511,0.9895926907976518\n",
      "2350,4.699999999999704,-426314.35006729,94100.36892624418,-332213.9811410458,298.005676158263,0.9895926907976518\n",
      "2400,4.799999999999693,-426188.44038688345,93792.96457823404,-332395.47580864944,297.0321598837991,0.9895926907976518\n",
      "2450,4.899999999999682,-425901.81383806816,94023.46801949952,-331878.34581856866,297.7621393159198,0.9895926907976518\n",
      "2500,4.999999999999671,-425458.32088864315,93676.8400367077,-331781.48085193546,296.66440603850606,0.9895926907976518\n"
     ]
    },
    {
     "name": "stderr",
     "output_type": "stream",
     "text": [
      "2017-02-20 14:14:56 1487625296.22 | 91.39 CPU sec: RestrEquil: finishing MD run\n"
     ]
    },
    {
     "name": "stdout",
     "output_type": "stream",
     "text": [
      "RestrEquil: system energy  after MD: -101686.97918387999 kcal/mol\n"
     ]
    }
   ],
   "source": [
    "equilState = plmd.RestrEquil( OpenMMstuff, argsDict)"
   ]
  },
  {
   "cell_type": "code",
   "execution_count": 18,
   "metadata": {
    "collapsed": false,
    "deletable": true,
    "editable": true
   },
   "outputs": [
    {
     "name": "stdout",
     "output_type": "stream",
     "text": [
      "(33.43, 11.279999999999999, 44.490000000000009) A\n",
      "(3.3973052501678467, 1.1316759586334229, 4.442593097686768) nm\n"
     ]
    }
   ],
   "source": [
    "equilPositions = equilState.getPositions()\n",
    "print(initPositions[0])\n",
    "print(equilPositions[0])"
   ]
  },
  {
   "cell_type": "code",
   "execution_count": 19,
   "metadata": {
    "collapsed": false,
    "deletable": true,
    "editable": true
   },
   "outputs": [
    {
     "name": "stdout",
     "output_type": "stream",
     "text": [
      "[(-0.5905418992042542, 0.2360309511423111, -0.7270171642303467), (-0.3419838547706604, 0.3494241535663605, 0.19692721962928772), (-0.7442020177841187, 1.0486479997634888, -0.20452308654785156), (0.018204649910330772, 0.043820444494485855, 0.15904010832309723), (0.13965833187103271, 0.6059970259666443, -0.7374553680419922), (-0.9233154058456421, -0.5337115526199341, -0.17551156878471375), (-0.35443344712257385, -0.0903269574046135, 0.16326820850372314), (0.36805152893066406, -0.34695589542388916, 0.5089651942253113), (-1.3681297302246094, 1.4506207704544067, -1.9237070083618164), (1.6266942024230957, -1.6523851156234741, 2.9657161235809326)] nm/ps\n"
     ]
    }
   ],
   "source": [
    "equilVelocities = equilState.getVelocities()\n",
    "print(equilVelocities[:10])"
   ]
  },
  {
   "cell_type": "code",
   "execution_count": null,
   "metadata": {
    "collapsed": true,
    "deletable": true,
    "editable": true
   },
   "outputs": [],
   "source": []
  }
 ],
 "metadata": {
  "kernelspec": {
   "display_name": "Python 3",
   "language": "python",
   "name": "python3"
  },
  "language_info": {
   "codemirror_mode": {
    "name": "ipython",
    "version": 3
   },
   "file_extension": ".py",
   "mimetype": "text/x-python",
   "name": "python",
   "nbconvert_exporter": "python",
   "pygments_lexer": "ipython3",
   "version": "3.5.2"
  }
 },
 "nbformat": 4,
 "nbformat_minor": 0
}
