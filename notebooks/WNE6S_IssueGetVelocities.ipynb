{
 "cells": [
  {
   "cell_type": "code",
   "execution_count": 1,
   "metadata": {
    "collapsed": false
   },
   "outputs": [],
   "source": [
    "from simtk import unit, openmm\n",
    "from simtk.openmm import app\n",
    "import numpy as np\n",
    "from openeye import oechem\n",
    "import os, smarty, parmed, openmoltools, pdbfixer \n",
    "from openmoltools import forcefield_generators\n",
    "import base64, pickle"
   ]
  },
  {
   "cell_type": "code",
   "execution_count": 2,
   "metadata": {
    "collapsed": false
   },
   "outputs": [
    {
     "name": "stdout",
     "output_type": "stream",
     "text": [
      "\u001b[0m\u001b[01;32m9PC1X-complex.oeb.gz\u001b[0m*     \u001b[01;32mreceptor-fixed.pdb\u001b[0m*    \u001b[01;32mtoluene.pdb\u001b[0m*\r\n",
      "\u001b[01;32m9PC1X-simulation.oeb.gz\u001b[0m*  \u001b[01;32msmirff99Frosst.ffxml\u001b[0m*  \u001b[01;31mWNE6S-minimized.oeb.gz\u001b[0m\r\n",
      "\u001b[01;32m9PC1X-smirff.oeb.gz\u001b[0m*      \u001b[01;32mT4-protein.pdb\u001b[0m*        \u001b[01;31mWNE6S-warmup.oeb.gz\u001b[0m\r\n",
      "IssueGetVelocities.ipynb  \u001b[01;32mtest-receptor.oeb.gz\u001b[0m*\r\n",
      "\u001b[01;32mmcmol.oeb\u001b[0m*                \u001b[01;32mtest_smiles.ism\u001b[0m*\r\n"
     ]
    }
   ],
   "source": [
    "%ls ../examples/data/"
   ]
  },
  {
   "cell_type": "code",
   "execution_count": 3,
   "metadata": {
    "collapsed": false
   },
   "outputs": [
    {
     "name": "stdout",
     "output_type": "stream",
     "text": [
      "dict_keys(['OpenMM_PLmaskDict_json', 'state', 'structure', 'system', 'idtag'])\n"
     ]
    }
   ],
   "source": [
    "# Check tagged data in minimized OEB\n",
    "mol = oechem.OEMol()\n",
    "with oechem.oemolistream('../examples/data/WNE6S-minimized.oeb.gz') as ifs:\n",
    "    if not oechem.OEReadMolecule(ifs, mol):\n",
    "        raise RuntimeError(\"Error reading complex\")\n",
    "print(mol.GetData().keys())"
   ]
  },
  {
   "cell_type": "code",
   "execution_count": 4,
   "metadata": {
    "collapsed": false
   },
   "outputs": [
    {
     "name": "stdout",
     "output_type": "stream",
     "text": [
      "<class 'simtk.openmm.openmm.System'>\n",
      "<Topology; 3 chains, 10097 residues, 32357 atoms, 22445 bonds>\n"
     ]
    }
   ],
   "source": [
    "# Regenerate System/Structure from tagged data\n",
    "sys_tag = oechem.OEGetTag('system')\n",
    "encoded_system = mol.GetData(sys_tag)\n",
    "system = openmm.XmlSerializer.deserialize(encoded_system)\n",
    "print(type(system))\n",
    "struct_tag = oechem.OEGetTag('structure')\n",
    "encoded_structure = mol.GetData(struct_tag)\n",
    "decoded_structure = base64.b64decode(encoded_structure)\n",
    "struct_dict = pickle.loads(decoded_structure)\n",
    "struct = parmed.structure.Structure()\n",
    "struct.__setstate__(struct_dict)\n",
    "positions = struct.positions\n",
    "topology = struct.topology\n",
    "print(topology)"
   ]
  },
  {
   "cell_type": "code",
   "execution_count": 5,
   "metadata": {
    "collapsed": false
   },
   "outputs": [
    {
     "ename": "TypeError",
     "evalue": "Velocities were not requested in getState() call, so are not available.",
     "output_type": "error",
     "traceback": [
      "\u001b[0;31m---------------------------------------------------------------------------\u001b[0m",
      "\u001b[0;31mTypeError\u001b[0m                                 Traceback (most recent call last)",
      "\u001b[0;32m<ipython-input-5-122ffed513c8>\u001b[0m in \u001b[0;36m<module>\u001b[0;34m()\u001b[0m\n\u001b[1;32m      2\u001b[0m \u001b[0mencoded_state\u001b[0m \u001b[0;34m=\u001b[0m \u001b[0mmol\u001b[0m\u001b[0;34m.\u001b[0m\u001b[0mGetData\u001b[0m\u001b[0;34m(\u001b[0m\u001b[0moechem\u001b[0m\u001b[0;34m.\u001b[0m\u001b[0mOEGetTag\u001b[0m\u001b[0;34m(\u001b[0m\u001b[0;34m'state'\u001b[0m\u001b[0;34m)\u001b[0m\u001b[0;34m)\u001b[0m\u001b[0;34m\u001b[0m\u001b[0m\n\u001b[1;32m      3\u001b[0m \u001b[0msaved_state\u001b[0m \u001b[0;34m=\u001b[0m \u001b[0mopenmm\u001b[0m\u001b[0;34m.\u001b[0m\u001b[0mXmlSerializer\u001b[0m\u001b[0;34m.\u001b[0m\u001b[0mdeserialize\u001b[0m\u001b[0;34m(\u001b[0m\u001b[0mencoded_state\u001b[0m\u001b[0;34m)\u001b[0m\u001b[0;34m\u001b[0m\u001b[0m\n\u001b[0;32m----> 4\u001b[0;31m \u001b[0msaved_vel\u001b[0m \u001b[0;34m=\u001b[0m \u001b[0msaved_state\u001b[0m\u001b[0;34m.\u001b[0m\u001b[0mgetVelocities\u001b[0m\u001b[0;34m(\u001b[0m\u001b[0;34m)\u001b[0m\u001b[0;34m\u001b[0m\u001b[0m\n\u001b[0m\u001b[1;32m      5\u001b[0m \u001b[0;32mnot\u001b[0m \u001b[0mnp\u001b[0m\u001b[0;34m.\u001b[0m\u001b[0many\u001b[0m\u001b[0;34m(\u001b[0m\u001b[0msaved_vel\u001b[0m\u001b[0;34m)\u001b[0m\u001b[0;34m\u001b[0m\u001b[0m\n",
      "\u001b[0;32m/home/limn1/anaconda3/envs/icebox/lib/python3.5/site-packages/simtk/openmm/openmm.py\u001b[0m in \u001b[0;36mgetVelocities\u001b[0;34m(self, asNumpy)\u001b[0m\n\u001b[1;32m   1776\u001b[0m            \"\"\"\n\u001b[1;32m   1777\u001b[0m         \u001b[0;32mif\u001b[0m \u001b[0mself\u001b[0m\u001b[0;34m.\u001b[0m\u001b[0m_velList\u001b[0m \u001b[0;32mis\u001b[0m \u001b[0;32mNone\u001b[0m\u001b[0;34m:\u001b[0m\u001b[0;34m\u001b[0m\u001b[0m\n\u001b[0;32m-> 1778\u001b[0;31m             \u001b[0;32mraise\u001b[0m \u001b[0mTypeError\u001b[0m\u001b[0;34m(\u001b[0m\u001b[0;34m'Velocities were not requested in getState() call, so are not available.'\u001b[0m\u001b[0;34m)\u001b[0m\u001b[0;34m\u001b[0m\u001b[0m\n\u001b[0m\u001b[1;32m   1779\u001b[0m \u001b[0;34m\u001b[0m\u001b[0m\n\u001b[1;32m   1780\u001b[0m         \u001b[0;32mif\u001b[0m \u001b[0masNumpy\u001b[0m\u001b[0;34m:\u001b[0m\u001b[0;34m\u001b[0m\u001b[0m\n",
      "\u001b[0;31mTypeError\u001b[0m: Velocities were not requested in getState() call, so are not available."
     ]
    }
   ],
   "source": [
    "# Grab the saved state, check for velocities\n",
    "encoded_state = mol.GetData(oechem.OEGetTag('state'))\n",
    "saved_state = openmm.XmlSerializer.deserialize(encoded_state)\n",
    "saved_vel = saved_state.getVelocities()\n",
    "not np.any(saved_vel)"
   ]
  },
  {
   "cell_type": "markdown",
   "metadata": {},
   "source": [
    "Looks like something went wrong in trying to store the velocities in the saved state??? Check for positions..."
   ]
  },
  {
   "cell_type": "code",
   "execution_count": 6,
   "metadata": {
    "collapsed": false
   },
   "outputs": [
    {
     "data": {
      "text/plain": [
       "False"
      ]
     },
     "execution_count": 6,
     "metadata": {},
     "output_type": "execute_result"
    }
   ],
   "source": [
    "not np.any(saved_state.getPositions())"
   ]
  },
  {
   "cell_type": "markdown",
   "metadata": {},
   "source": [
    "Positions look to be stored okay...Let's try running a short simulation and saving the velocities again"
   ]
  },
  {
   "cell_type": "code",
   "execution_count": 7,
   "metadata": {
    "collapsed": true
   },
   "outputs": [],
   "source": [
    "saved_positions = saved_state.getPositions()"
   ]
  },
  {
   "cell_type": "code",
   "execution_count": 8,
   "metadata": {
    "collapsed": true
   },
   "outputs": [],
   "source": [
    "# Now regenerate the simulation object.\n",
    "integrator = openmm.LangevinIntegrator(300*unit.kelvin, 1/unit.picoseconds, 0.002*unit.picoseconds)\n",
    "simulation = app.Simulation(topology, system, integrator)"
   ]
  },
  {
   "cell_type": "code",
   "execution_count": 9,
   "metadata": {
    "collapsed": false
   },
   "outputs": [
    {
     "data": {
      "text/plain": [
       "True"
      ]
     },
     "execution_count": 9,
     "metadata": {},
     "output_type": "execute_result"
    }
   ],
   "source": [
    "sim_state = simulation.context.getState(getPositions=True,getVelocities=True,getParameters=True)\n",
    "sim_vel = sim_state.getVelocities(asNumpy=True) \n",
    "not np.any(sim_vel)"
   ]
  },
  {
   "cell_type": "code",
   "execution_count": 10,
   "metadata": {
    "collapsed": true
   },
   "outputs": [],
   "source": [
    "simulation.context.setPositions(saved_positions)\n",
    "simulation.context.setVelocitiesToTemperature(300*unit.kelvin)"
   ]
  },
  {
   "cell_type": "markdown",
   "metadata": {},
   "source": [
    "Set the positions to the saved positions and reset the velocities. Then check the velocities is no longer None"
   ]
  },
  {
   "cell_type": "code",
   "execution_count": 11,
   "metadata": {
    "collapsed": false
   },
   "outputs": [
    {
     "data": {
      "text/plain": [
       "False"
      ]
     },
     "execution_count": 11,
     "metadata": {},
     "output_type": "execute_result"
    }
   ],
   "source": [
    "sim_state = simulation.context.getState(getPositions=True,getVelocities=True,getParameters=True)\n",
    "sim_vel = sim_state.getVelocities(asNumpy=True) \n",
    "not np.any(sim_vel)"
   ]
  },
  {
   "cell_type": "code",
   "execution_count": 12,
   "metadata": {
    "collapsed": true
   },
   "outputs": [],
   "source": [
    "simulation.step(5000)"
   ]
  },
  {
   "cell_type": "code",
   "execution_count": 13,
   "metadata": {
    "collapsed": false
   },
   "outputs": [
    {
     "data": {
      "text/plain": [
       "Quantity(value=(-0.21839779615402222, -0.3398388624191284, -0.8523949980735779), unit=nanometer/picosecond)"
      ]
     },
     "execution_count": 13,
     "metadata": {},
     "output_type": "execute_result"
    }
   ],
   "source": [
    "state = simulation.context.getState( getPositions=True,\n",
    "                                     getVelocities=True,\n",
    "                                     getForces=True,\n",
    "                                     getEnergy=True,\n",
    "                                     getParameters=True,\n",
    "                                     enforcePeriodicBox=True )\n",
    "state.getVelocities()[0]"
   ]
  },
  {
   "cell_type": "markdown",
   "metadata": {},
   "source": [
    "Encode the system and newly simulated state and write out to another OEB file"
   ]
  },
  {
   "cell_type": "code",
   "execution_count": 14,
   "metadata": {
    "collapsed": false
   },
   "outputs": [],
   "source": [
    "outmol = oechem.OEMol()\n",
    "ofs = oechem.oemolostream('WNE6S-simulation.oeb.gz')\n",
    "encoded_system = openmm.XmlSerializer.serialize(system).encode()\n",
    "encoded_state = openmm.XmlSerializer.serialize(state).encode()\n",
    "outmol.SetData(oechem.OEGetTag('system'), encoded_system)\n",
    "outmol.AddData(oechem.OEGetTag('state'), encoded_state)\n",
    "oechem.OEWriteConstMolecule(ofs, outmol)\n",
    "ofs.close()"
   ]
  },
  {
   "cell_type": "markdown",
   "metadata": {},
   "source": [
    "Read in the simulated OEB file and check for the newly saved state"
   ]
  },
  {
   "cell_type": "code",
   "execution_count": 15,
   "metadata": {
    "collapsed": true
   },
   "outputs": [],
   "source": [
    "simmol = oechem.OEMol()\n",
    "with oechem.oemolistream('WNE6S-simulation.oeb.gz') as ifs:\n",
    "    oechem.OEReadMolecule(ifs,simmol)"
   ]
  },
  {
   "cell_type": "code",
   "execution_count": 16,
   "metadata": {
    "collapsed": true
   },
   "outputs": [],
   "source": [
    "saved_system = openmm.XmlSerializer.deserialize( simmol.GetData(oechem.OEGetTag('system')) )\n",
    "saved_state = openmm.XmlSerializer.deserialize( simmol.GetData(oechem.OEGetTag('state')) )"
   ]
  },
  {
   "cell_type": "code",
   "execution_count": 17,
   "metadata": {
    "collapsed": false
   },
   "outputs": [
    {
     "data": {
      "text/plain": [
       "Quantity(value=(-0.21839779615402222, -0.3398388624191284, -0.8523949980735779), unit=nanometer/picosecond)"
      ]
     },
     "execution_count": 17,
     "metadata": {},
     "output_type": "execute_result"
    }
   ],
   "source": [
    "saved_state.getVelocities()[0]"
   ]
  },
  {
   "cell_type": "markdown",
   "metadata": {},
   "source": [
    "Looks like the velocities were preserved in this case?"
   ]
  }
 ],
 "metadata": {
  "anaconda-cloud": {},
  "kernelspec": {
   "display_name": "Python [conda env:icebox]",
   "language": "python",
   "name": "conda-env-icebox-py"
  },
  "language_info": {
   "codemirror_mode": {
    "name": "ipython",
    "version": 3
   },
   "file_extension": ".py",
   "mimetype": "text/x-python",
   "name": "python",
   "nbconvert_exporter": "python",
   "pygments_lexer": "ipython3",
   "version": "3.5.2"
  }
 },
 "nbformat": 4,
 "nbformat_minor": 1
}
